{
 "cells": [
  {
   "cell_type": "code",
   "execution_count": 3,
   "id": "93eec987-c814-45e7-8650-1aad6820cc5f",
   "metadata": {},
   "outputs": [
    {
     "name": "stdin",
     "output_type": "stream",
     "text": [
      "token number 19\n"
     ]
    },
    {
     "name": "stdout",
     "output_type": "stream",
     "text": [
      "Better luck next time\n"
     ]
    }
   ],
   "source": [
    "int=(input('token number'))\n",
    "if 'token number'==19:\n",
    "    print ('Lucky draw')\n",
    "elif 'token number'==500:\n",
    "    print ('50 percent on your purchase')\n",
    "elif 'token number'==100:\n",
    "    print ('1000 RS OFF')\n",
    "else:\n",
    "    print ('Better luck next time')"
   ]
  },
  {
   "cell_type": "code",
   "execution_count": 1,
   "id": "8deb1ab0-850c-488d-80f4-dc2233a23fcf",
   "metadata": {},
   "outputs": [],
   "source": [
    "a=10"
   ]
  },
  {
   "cell_type": "code",
   "execution_count": 2,
   "id": "4c6c551b-5189-41e4-bf99-16742f52ea3d",
   "metadata": {},
   "outputs": [
    {
     "data": {
      "text/plain": [
       "10"
      ]
     },
     "execution_count": 2,
     "metadata": {},
     "output_type": "execute_result"
    }
   ],
   "source": [
    "a"
   ]
  },
  {
   "cell_type": "code",
   "execution_count": 3,
   "id": "ba68ccda-be22-400e-a8fc-92d0b879f611",
   "metadata": {},
   "outputs": [],
   "source": [
    "b=20"
   ]
  },
  {
   "cell_type": "code",
   "execution_count": 4,
   "id": "ac981768-94cd-46ad-938a-8bf361bddb29",
   "metadata": {},
   "outputs": [
    {
     "data": {
      "text/plain": [
       "20"
      ]
     },
     "execution_count": 4,
     "metadata": {},
     "output_type": "execute_result"
    }
   ],
   "source": [
    "b"
   ]
  },
  {
   "cell_type": "code",
   "execution_count": 6,
   "id": "cd260fc7-0787-469d-9787-73c370cd0da6",
   "metadata": {},
   "outputs": [],
   "source": [
    "c=a*b"
   ]
  },
  {
   "cell_type": "code",
   "execution_count": 7,
   "id": "ae00ebb1-00bb-42fa-b72e-3d338b801bc4",
   "metadata": {},
   "outputs": [
    {
     "data": {
      "text/plain": [
       "200"
      ]
     },
     "execution_count": 7,
     "metadata": {},
     "output_type": "execute_result"
    }
   ],
   "source": [
    "c"
   ]
  },
  {
   "cell_type": "code",
   "execution_count": 8,
   "id": "f824078a-3494-4096-ab39-dda273dce8fb",
   "metadata": {},
   "outputs": [],
   "source": [
    "d=a+c"
   ]
  },
  {
   "cell_type": "code",
   "execution_count": 9,
   "id": "b2e2e675-2291-4b18-a4bc-69902f8180b5",
   "metadata": {},
   "outputs": [
    {
     "data": {
      "text/plain": [
       "210"
      ]
     },
     "execution_count": 9,
     "metadata": {},
     "output_type": "execute_result"
    }
   ],
   "source": [
    "d"
   ]
  },
  {
   "cell_type": "code",
   "execution_count": 12,
   "id": "7f16294c-ad7e-4fd6-a251-35069f181c71",
   "metadata": {},
   "outputs": [],
   "source": [
    "panchanan=200"
   ]
  },
  {
   "cell_type": "code",
   "execution_count": 13,
   "id": "060f39ad-bf3d-4961-907d-8be5e11f4bea",
   "metadata": {},
   "outputs": [
    {
     "data": {
      "text/plain": [
       "200"
      ]
     },
     "execution_count": 13,
     "metadata": {},
     "output_type": "execute_result"
    }
   ],
   "source": [
    "panchanan"
   ]
  },
  {
   "cell_type": "code",
   "execution_count": 15,
   "id": "c13916b0-602f-4564-b42f-1300503fada2",
   "metadata": {},
   "outputs": [
    {
     "data": {
      "text/plain": [
       "int"
      ]
     },
     "execution_count": 15,
     "metadata": {},
     "output_type": "execute_result"
    }
   ],
   "source": [
    "type(panchanan)"
   ]
  },
  {
   "cell_type": "code",
   "execution_count": 16,
   "id": "686900ee-cf73-4a7b-a1ec-2be26000c25e",
   "metadata": {},
   "outputs": [
    {
     "data": {
      "text/plain": [
       "int"
      ]
     },
     "execution_count": 16,
     "metadata": {},
     "output_type": "execute_result"
    }
   ],
   "source": [
    "type(a)"
   ]
  },
  {
   "cell_type": "code",
   "execution_count": 17,
   "id": "d7d909ee-efcf-416f-ab73-7367936969a6",
   "metadata": {},
   "outputs": [],
   "source": [
    "b=2.09"
   ]
  },
  {
   "cell_type": "code",
   "execution_count": 18,
   "id": "9083f8a7-8773-4743-bb2c-81b2fea183f0",
   "metadata": {},
   "outputs": [
    {
     "data": {
      "text/plain": [
       "2.09"
      ]
     },
     "execution_count": 18,
     "metadata": {},
     "output_type": "execute_result"
    }
   ],
   "source": [
    "b"
   ]
  },
  {
   "cell_type": "code",
   "execution_count": 20,
   "id": "0c5d515b-74a5-4c09-82f6-194b1648c086",
   "metadata": {},
   "outputs": [
    {
     "data": {
      "text/plain": [
       "float"
      ]
     },
     "execution_count": 20,
     "metadata": {},
     "output_type": "execute_result"
    }
   ],
   "source": [
    "type(b)"
   ]
  },
  {
   "cell_type": "code",
   "execution_count": 23,
   "id": "4c760eef-439e-448d-b6ad-c3598c7123d5",
   "metadata": {},
   "outputs": [],
   "source": [
    "N=True"
   ]
  },
  {
   "cell_type": "code",
   "execution_count": 24,
   "id": "a8411f88-ef94-4446-a7e9-3fa04c4d2b6a",
   "metadata": {},
   "outputs": [
    {
     "data": {
      "text/plain": [
       "bool"
      ]
     },
     "execution_count": 24,
     "metadata": {},
     "output_type": "execute_result"
    }
   ],
   "source": [
    "type(N)"
   ]
  },
  {
   "cell_type": "code",
   "execution_count": 28,
   "id": "00ddbb26-2e7e-4d10-b6d9-bc4b4aab2d1d",
   "metadata": {},
   "outputs": [],
   "source": [
    "M=True"
   ]
  },
  {
   "cell_type": "code",
   "execution_count": 30,
   "id": "5a3a4dc5-e6fa-4bda-9a99-511a71ac7162",
   "metadata": {},
   "outputs": [],
   "source": [
    " p=N+M"
   ]
  },
  {
   "cell_type": "code",
   "execution_count": 31,
   "id": "f4dd3b4a-7de6-4d1d-a6f2-922da8cf101a",
   "metadata": {},
   "outputs": [
    {
     "data": {
      "text/plain": [
       "2"
      ]
     },
     "execution_count": 31,
     "metadata": {},
     "output_type": "execute_result"
    }
   ],
   "source": [
    "p"
   ]
  },
  {
   "cell_type": "code",
   "execution_count": 32,
   "id": "401f3620-ed69-434f-9cba-12d6f3f0d289",
   "metadata": {},
   "outputs": [
    {
     "ename": "ZeroDivisionError",
     "evalue": "division by zero",
     "output_type": "error",
     "traceback": [
      "\u001b[0;31m---------------------------------------------------------------------------\u001b[0m",
      "\u001b[0;31mZeroDivisionError\u001b[0m                         Traceback (most recent call last)",
      "Cell \u001b[0;32mIn[32], line 1\u001b[0m\n\u001b[0;32m----> 1\u001b[0m \u001b[38;5;241;43m1\u001b[39;49m\u001b[38;5;241;43m/\u001b[39;49m\u001b[38;5;241;43m0\u001b[39;49m\n",
      "\u001b[0;31mZeroDivisionError\u001b[0m: division by zero"
     ]
    }
   ],
   "source": []
  },
  {
   "cell_type": "code",
   "execution_count": 33,
   "id": "bd75b558-f5fa-47f2-94df-e2ceec5e8758",
   "metadata": {},
   "outputs": [],
   "source": [
    "p=5+5j"
   ]
  },
  {
   "cell_type": "code",
   "execution_count": 34,
   "id": "0b77d246-c58f-465a-8d7e-e631eda0c2cf",
   "metadata": {},
   "outputs": [
    {
     "data": {
      "text/plain": [
       "complex"
      ]
     },
     "execution_count": 34,
     "metadata": {},
     "output_type": "execute_result"
    }
   ],
   "source": [
    "type(p)"
   ]
  },
  {
   "cell_type": "code",
   "execution_count": 35,
   "id": "db6b0216-c597-4be9-8b39-e72555993c2b",
   "metadata": {},
   "outputs": [
    {
     "data": {
      "text/plain": [
       "5.0"
      ]
     },
     "execution_count": 35,
     "metadata": {},
     "output_type": "execute_result"
    }
   ],
   "source": [
    "p.real"
   ]
  },
  {
   "cell_type": "code",
   "execution_count": 36,
   "id": "d9307a85-7b3d-4ffc-b87c-54fa04a4d4f6",
   "metadata": {},
   "outputs": [],
   "source": [
    "p=('panchanaan')"
   ]
  },
  {
   "cell_type": "code",
   "execution_count": 42,
   "id": "0fe308e3-ff77-4ade-b3eb-dd0cc71b5688",
   "metadata": {},
   "outputs": [
    {
     "data": {
      "text/plain": [
       "2"
      ]
     },
     "execution_count": 42,
     "metadata": {},
     "output_type": "execute_result"
    }
   ],
   "source": [
    "p[-1]"
   ]
  },
  {
   "cell_type": "code",
   "execution_count": 43,
   "id": "293da2e7-5e92-483d-901d-cfd59122bf1b",
   "metadata": {},
   "outputs": [],
   "source": [
    "p=[0,1,2]"
   ]
  },
  {
   "cell_type": "code",
   "execution_count": 44,
   "id": "5f16ee52-a29d-4926-b564-9ab9755b9a61",
   "metadata": {},
   "outputs": [],
   "source": [
    "p=('panchanaan')"
   ]
  },
  {
   "cell_type": "code",
   "execution_count": 45,
   "id": "12d5660c-d6f2-42aa-9f8a-f393af6d534f",
   "metadata": {},
   "outputs": [
    {
     "data": {
      "text/plain": [
       "'a'"
      ]
     },
     "execution_count": 45,
     "metadata": {},
     "output_type": "execute_result"
    }
   ],
   "source": [
    "p[-3]"
   ]
  },
  {
   "cell_type": "code",
   "execution_count": 47,
   "id": "baeb29e4-4ae7-4722-8f05-0efd10576e96",
   "metadata": {},
   "outputs": [
    {
     "data": {
      "text/plain": [
       "'panc'"
      ]
     },
     "execution_count": 47,
     "metadata": {},
     "output_type": "execute_result"
    }
   ],
   "source": [
    "p[0:4]"
   ]
  },
  {
   "cell_type": "code",
   "execution_count": 50,
   "id": "3d4c67ab-cc5d-4314-8d22-ca8a7a750bf9",
   "metadata": {},
   "outputs": [
    {
     "data": {
      "text/plain": [
       "'pancha'"
      ]
     },
     "execution_count": 50,
     "metadata": {},
     "output_type": "execute_result"
    }
   ],
   "source": [
    "p[0:6:1]"
   ]
  },
  {
   "cell_type": "code",
   "execution_count": 54,
   "id": "c8e4083a-912b-4190-8eb7-97632e18937b",
   "metadata": {},
   "outputs": [
    {
     "data": {
      "text/plain": [
       "'naanahcnap'"
      ]
     },
     "execution_count": 54,
     "metadata": {},
     "output_type": "execute_result"
    }
   ],
   "source": [
    "p[::-1]"
   ]
  },
  {
   "cell_type": "code",
   "execution_count": 57,
   "id": "0952ba85-280e-4edd-a9c7-af3bbb789da4",
   "metadata": {},
   "outputs": [
    {
     "data": {
      "text/plain": [
       "'naanahcnap'"
      ]
     },
     "execution_count": 57,
     "metadata": {},
     "output_type": "execute_result"
    }
   ],
   "source": [
    "p[:-100:-1]"
   ]
  },
  {
   "cell_type": "code",
   "execution_count": 58,
   "id": "f522f599-7544-4b24-91ad-11985077a197",
   "metadata": {},
   "outputs": [
    {
     "data": {
      "text/plain": [
       "10"
      ]
     },
     "execution_count": 58,
     "metadata": {},
     "output_type": "execute_result"
    }
   ],
   "source": [
    "len(p)"
   ]
  },
  {
   "cell_type": "code",
   "execution_count": 61,
   "id": "3ee57e25-13e9-4356-af91-33a9734e2423",
   "metadata": {},
   "outputs": [
    {
     "data": {
      "text/plain": [
       "2"
      ]
     },
     "execution_count": 61,
     "metadata": {},
     "output_type": "execute_result"
    }
   ],
   "source": [
    "p.find('n')"
   ]
  },
  {
   "cell_type": "code",
   "execution_count": 63,
   "id": "0e70c8cb-48a4-4a08-a565-c1939f2b523f",
   "metadata": {},
   "outputs": [
    {
     "data": {
      "text/plain": [
       "3"
      ]
     },
     "execution_count": 63,
     "metadata": {},
     "output_type": "execute_result"
    }
   ],
   "source": [
    "p.count('n')"
   ]
  },
  {
   "cell_type": "code",
   "execution_count": 64,
   "id": "97ecc129-0d40-4127-a0fc-69934092fdb3",
   "metadata": {},
   "outputs": [
    {
     "data": {
      "text/plain": [
       "'panchanaan'"
      ]
     },
     "execution_count": 64,
     "metadata": {},
     "output_type": "execute_result"
    }
   ],
   "source": [
    "p"
   ]
  },
  {
   "cell_type": "code",
   "execution_count": 66,
   "id": "3ffe0de9-aae0-4600-84e2-aeb694e68d31",
   "metadata": {},
   "outputs": [
    {
     "data": {
      "text/plain": [
       "'Panchanaan'"
      ]
     },
     "execution_count": 66,
     "metadata": {},
     "output_type": "execute_result"
    }
   ],
   "source": [
    "p.title()"
   ]
  },
  {
   "cell_type": "code",
   "execution_count": 67,
   "id": "2db4143e-da24-4e66-a9d7-b76b16d8edc4",
   "metadata": {},
   "outputs": [
    {
     "data": {
      "text/plain": [
       "'PANCHANAAN'"
      ]
     },
     "execution_count": 67,
     "metadata": {},
     "output_type": "execute_result"
    }
   ],
   "source": [
    "p.upper()"
   ]
  },
  {
   "cell_type": "code",
   "execution_count": 68,
   "id": "c48644cf-c437-498a-8e73-f41ae4df2349",
   "metadata": {},
   "outputs": [
    {
     "data": {
      "text/plain": [
       "'panchanaan'"
      ]
     },
     "execution_count": 68,
     "metadata": {},
     "output_type": "execute_result"
    }
   ],
   "source": [
    "p.lower()"
   ]
  },
  {
   "cell_type": "code",
   "execution_count": 70,
   "id": "6e2d5ca1-0a47-4f45-a642-5d419aaa843f",
   "metadata": {},
   "outputs": [
    {
     "data": {
      "text/plain": [
       "'Panchanaan'"
      ]
     },
     "execution_count": 70,
     "metadata": {},
     "output_type": "execute_result"
    }
   ],
   "source": [
    "p.capitalize()"
   ]
  },
  {
   "cell_type": "code",
   "execution_count": 4,
   "id": "1844c539-8bc6-41ca-8b20-b33de13ad173",
   "metadata": {},
   "outputs": [],
   "source": [
    "p=('panchanaan')"
   ]
  },
  {
   "cell_type": "code",
   "execution_count": 11,
   "id": "ed62a936-4510-4475-b4a7-a0689e9f91c3",
   "metadata": {},
   "outputs": [
    {
     "data": {
      "text/plain": [
       "[-2]"
      ]
     },
     "execution_count": 11,
     "metadata": {},
     "output_type": "execute_result"
    }
   ],
   "source": [
    "p[0:4]"
   ]
  },
  {
   "cell_type": "code",
   "execution_count": 13,
   "id": "005e5847-745d-4986-9470-0ffdbee5938b",
   "metadata": {},
   "outputs": [],
   "source": [
    "p=('panchanaan')"
   ]
  },
  {
   "cell_type": "code",
   "execution_count": 14,
   "id": "60c7990f-51af-40e8-b1c9-24a4da34d688",
   "metadata": {},
   "outputs": [
    {
     "name": "stdin",
     "output_type": "stream",
     "text": [
      "your salary 6000\n"
     ]
    },
    {
     "ename": "TypeError",
     "evalue": "'str' object is not callable",
     "output_type": "error",
     "traceback": [
      "\u001b[0;31m---------------------------------------------------------------------------\u001b[0m",
      "\u001b[0;31mTypeError\u001b[0m                                 Traceback (most recent call last)",
      "Cell \u001b[0;32mIn[14], line 1\u001b[0m\n\u001b[0;32m----> 1\u001b[0m salary \u001b[38;5;241m=\u001b[39m \u001b[38;5;28;43mint\u001b[39;49m\u001b[43m \u001b[49m\u001b[43m(\u001b[49m\u001b[38;5;28;43minput\u001b[39;49m\u001b[43m(\u001b[49m\u001b[38;5;124;43m\"\u001b[39;49m\u001b[38;5;124;43myour salary\u001b[39;49m\u001b[38;5;124;43m\"\u001b[39;49m\u001b[43m)\u001b[49m\u001b[43m)\u001b[49m\n\u001b[1;32m      2\u001b[0m \u001b[38;5;28;01mif\u001b[39;00m salary \u001b[38;5;241m>\u001b[39m\u001b[38;5;241m=\u001b[39m \u001b[38;5;241m18000\u001b[39m \u001b[38;5;129;01mand\u001b[39;00m salary \u001b[38;5;241m<\u001b[39m\u001b[38;5;241m=\u001b[39m\u001b[38;5;241m60000\u001b[39m :\n\u001b[1;32m      3\u001b[0m           \u001b[38;5;28mprint\u001b[39m (\u001b[38;5;124m\"\u001b[39m\u001b[38;5;124myou are employee\u001b[39m\u001b[38;5;124m\"\u001b[39m)\n",
      "\u001b[0;31mTypeError\u001b[0m: 'str' object is not callable"
     ]
    }
   ],
   "source": [
    "salary = int (input(\"your salary\"))\n",
    "if salary >= 18000 and salary <=60000 :\n",
    "          print (\"you are employee\")\n",
    "else :   \n",
    "          print (\"you are manager\")"
   ]
  },
  {
   "cell_type": "code",
   "execution_count": null,
   "id": "2408af64-a72a-4708-9fae-bc554c7733e3",
   "metadata": {},
   "outputs": [],
   "source": [
    "product_price = int (input (\"enter your shopping price\"))\n",
    "if product_price == 5000 :\n",
    "           print (\"you got 20% off\")\n",
    "elif product_price == 2999 :\n",
    "          print (\"you have won trip to indonesia\")\n",
    "if product_price > 6000 :\n",
    "          print (\"you have got 50% off\")"
   ]
  },
  {
   "cell_type": "code",
   "execution_count": null,
   "id": "18e0354d-3e59-4f43-8c10-baab2ed20472",
   "metadata": {},
   "outputs": [],
   "source": []
  }
 ],
 "metadata": {
  "kernelspec": {
   "display_name": "Python 3 (ipykernel)",
   "language": "python",
   "name": "python3"
  },
  "language_info": {
   "codemirror_mode": {
    "name": "ipython",
    "version": 3
   },
   "file_extension": ".py",
   "mimetype": "text/x-python",
   "name": "python",
   "nbconvert_exporter": "python",
   "pygments_lexer": "ipython3",
   "version": "3.10.8"
  }
 },
 "nbformat": 4,
 "nbformat_minor": 5
}

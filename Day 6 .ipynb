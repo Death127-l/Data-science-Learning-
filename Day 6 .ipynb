{
 "cells": [
  {
   "cell_type": "code",
   "execution_count": 1,
   "id": "8b186d70-c448-4a99-b51b-f892a2a96b29",
   "metadata": {},
   "outputs": [],
   "source": [
    "p= ('this is my string class')"
   ]
  },
  {
   "cell_type": "code",
   "execution_count": 3,
   "id": "d3e60db1-1114-4860-a01c-79019bd34e71",
   "metadata": {},
   "outputs": [
    {
     "data": {
      "text/plain": [
       "23"
      ]
     },
     "execution_count": 3,
     "metadata": {},
     "output_type": "execute_result"
    }
   ],
   "source": [
    "len(p)"
   ]
  },
  {
   "cell_type": "code",
   "execution_count": 7,
   "id": "2edf108e-ec45-43b4-b3db-a46009fe04d4",
   "metadata": {},
   "outputs": [
    {
     "data": {
      "text/plain": [
       "3"
      ]
     },
     "execution_count": 7,
     "metadata": {},
     "output_type": "execute_result"
    }
   ],
   "source": [
    "p.find('s')"
   ]
  },
  {
   "cell_type": "code",
   "execution_count": 8,
   "id": "a9150aa4-9c7a-4d68-aaaa-87fc74fdd5a2",
   "metadata": {},
   "outputs": [
    {
     "data": {
      "text/plain": [
       "18"
      ]
     },
     "execution_count": 8,
     "metadata": {},
     "output_type": "execute_result"
    }
   ],
   "source": [
    "p.find('c')"
   ]
  },
  {
   "cell_type": "code",
   "execution_count": 17,
   "id": "5107ce24-f8f5-48f3-b82f-a2b98a6da3d2",
   "metadata": {},
   "outputs": [
    {
     "ename": "TypeError",
     "evalue": "'str' object cannot be interpreted as an integer",
     "output_type": "error",
     "traceback": [
      "\u001b[0;31m---------------------------------------------------------------------------\u001b[0m",
      "\u001b[0;31mTypeError\u001b[0m                                 Traceback (most recent call last)",
      "Cell \u001b[0;32mIn[17], line 1\u001b[0m\n\u001b[0;32m----> 1\u001b[0m \u001b[43mp\u001b[49m\u001b[38;5;241;43m.\u001b[39;49m\u001b[43mcenter\u001b[49m\u001b[43m(\u001b[49m\u001b[38;5;124;43m'\u001b[39;49m\u001b[38;5;124;43mp\u001b[39;49m\u001b[38;5;124;43m'\u001b[39;49m\u001b[43m)\u001b[49m\n",
      "\u001b[0;31mTypeError\u001b[0m: 'str' object cannot be interpreted as an integer"
     ]
    }
   ],
   "source": [
    "p.center('p')"
   ]
  },
  {
   "cell_type": "code",
   "execution_count": 12,
   "id": "946244dc-c676-41f3-87b8-be685360dc13",
   "metadata": {},
   "outputs": [
    {
     "data": {
      "text/plain": [
       "2"
      ]
     },
     "execution_count": 12,
     "metadata": {},
     "output_type": "execute_result"
    }
   ],
   "source": [
    "p.count('is')"
   ]
  },
  {
   "cell_type": "code",
   "execution_count": 14,
   "id": "7f2dc5b2-723d-46e5-8e65-5e0e3f3c3888",
   "metadata": {},
   "outputs": [
    {
     "data": {
      "text/plain": [
       "'This Is My String Class'"
      ]
     },
     "execution_count": 14,
     "metadata": {},
     "output_type": "execute_result"
    }
   ],
   "source": [
    "p.title()"
   ]
  },
  {
   "cell_type": "code",
   "execution_count": 19,
   "id": "4925236b-a142-4468-a4dd-badc56934328",
   "metadata": {},
   "outputs": [
    {
     "data": {
      "text/plain": [
       "'This is my string class'"
      ]
     },
     "execution_count": 19,
     "metadata": {},
     "output_type": "execute_result"
    }
   ],
   "source": [
    "p.capitalize()"
   ]
  },
  {
   "cell_type": "code",
   "execution_count": 20,
   "id": "76656e1f-a27e-4709-896f-d78131d064ea",
   "metadata": {},
   "outputs": [],
   "source": [
    "z=1+1"
   ]
  },
  {
   "cell_type": "code",
   "execution_count": 21,
   "id": "596bfc03-c571-4831-b3a3-082115f0a102",
   "metadata": {},
   "outputs": [
    {
     "data": {
      "text/plain": [
       "2"
      ]
     },
     "execution_count": 21,
     "metadata": {},
     "output_type": "execute_result"
    }
   ],
   "source": [
    "z"
   ]
  },
  {
   "cell_type": "code",
   "execution_count": 22,
   "id": "213ef9cc-474a-43a5-9b33-01ef3cafeb9d",
   "metadata": {},
   "outputs": [
    {
     "ename": "TypeError",
     "evalue": "can only concatenate str (not \"int\") to str",
     "output_type": "error",
     "traceback": [
      "\u001b[0;31m---------------------------------------------------------------------------\u001b[0m",
      "\u001b[0;31mTypeError\u001b[0m                                 Traceback (most recent call last)",
      "Cell \u001b[0;32mIn[22], line 1\u001b[0m\n\u001b[0;32m----> 1\u001b[0m p\u001b[38;5;241m=\u001b[39m\u001b[43mp\u001b[49m\u001b[38;5;241;43m+\u001b[39;49m\u001b[38;5;241;43m1\u001b[39;49m\n",
      "\u001b[0;31mTypeError\u001b[0m: can only concatenate str (not \"int\") to str"
     ]
    }
   ],
   "source": [
    "p=p+1"
   ]
  },
  {
   "cell_type": "code",
   "execution_count": 23,
   "id": "c49440e7-6e90-4c3a-8dcd-6559114c21d4",
   "metadata": {},
   "outputs": [],
   "source": [
    "p=str(1)"
   ]
  },
  {
   "cell_type": "code",
   "execution_count": 24,
   "id": "8f384a73-5b6e-4f76-99c0-21807fffef64",
   "metadata": {},
   "outputs": [
    {
     "data": {
      "text/plain": [
       "'1'"
      ]
     },
     "execution_count": 24,
     "metadata": {},
     "output_type": "execute_result"
    }
   ],
   "source": [
    "p"
   ]
  },
  {
   "cell_type": "code",
   "execution_count": 25,
   "id": "7f330a1b-7a76-4daf-b0f1-5fd05d95f849",
   "metadata": {},
   "outputs": [],
   "source": [
    "p='panchananan'"
   ]
  },
  {
   "cell_type": "code",
   "execution_count": 26,
   "id": "f93266af-4b8c-4cdf-a0a2-cc5c94924590",
   "metadata": {},
   "outputs": [
    {
     "data": {
      "text/plain": [
       "'panchananan'"
      ]
     },
     "execution_count": 26,
     "metadata": {},
     "output_type": "execute_result"
    }
   ],
   "source": [
    "p"
   ]
  },
  {
   "cell_type": "code",
   "execution_count": 27,
   "id": "51d3dfbd-38b6-4439-8db0-3da5d1560da0",
   "metadata": {},
   "outputs": [],
   "source": [
    "p=\"p\"+str(1)"
   ]
  },
  {
   "cell_type": "code",
   "execution_count": 28,
   "id": "2ef99952-949c-4bc0-840f-68ca0a742e15",
   "metadata": {},
   "outputs": [
    {
     "data": {
      "text/plain": [
       "'p1'"
      ]
     },
     "execution_count": 28,
     "metadata": {},
     "output_type": "execute_result"
    }
   ],
   "source": [
    "p"
   ]
  },
  {
   "cell_type": "code",
   "execution_count": 29,
   "id": "ef37aa4c-ebbd-4207-ac80-fd8709f167ed",
   "metadata": {},
   "outputs": [
    {
     "data": {
      "text/plain": [
       "'p1p1p1'"
      ]
     },
     "execution_count": 29,
     "metadata": {},
     "output_type": "execute_result"
    }
   ],
   "source": [
    "p*3"
   ]
  },
  {
   "cell_type": "code",
   "execution_count": null,
   "id": "926f4ca3-32b3-456b-b88e-b8979b0c9703",
   "metadata": {},
   "outputs": [],
   "source": [
    "# ctrl forward slash for whole story in hatch \n",
    "# thriple column in to whole story together\n",
    "#/n for creating new line\n",
    "#story can use as string \n"
   ]
  },
  {
   "cell_type": "code",
   "execution_count": 9,
   "id": "f4a1d4d7-ddae-4bea-b0c7-300c1323c5a4",
   "metadata": {},
   "outputs": [],
   "source": [
    "p='panchanaan'"
   ]
  },
  {
   "cell_type": "code",
   "execution_count": 8,
   "id": "694e524f-e196-434d-b747-1fd431e507c2",
   "metadata": {},
   "outputs": [
    {
     "data": {
      "text/plain": [
       "'Don\"t copy in my class'"
      ]
     },
     "execution_count": 8,
     "metadata": {},
     "output_type": "execute_result"
    }
   ],
   "source": [
    "'Don\"t copy in my class'"
   ]
  }
 ],
 "metadata": {
  "kernelspec": {
   "display_name": "Python 3 (ipykernel)",
   "language": "python",
   "name": "python3"
  },
  "language_info": {
   "codemirror_mode": {
    "name": "ipython",
    "version": 3
   },
   "file_extension": ".py",
   "mimetype": "text/x-python",
   "name": "python",
   "nbconvert_exporter": "python",
   "pygments_lexer": "ipython3",
   "version": "3.10.8"
  }
 },
 "nbformat": 4,
 "nbformat_minor": 5
}

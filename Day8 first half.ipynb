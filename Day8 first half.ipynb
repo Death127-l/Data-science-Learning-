{
 "cells": [
  {
   "cell_type": "code",
   "execution_count": 1,
   "id": "78b63dff-63f8-4c70-983d-a597b825a43a",
   "metadata": {},
   "outputs": [
    {
     "data": {
      "text/plain": [
       "'hello world'"
      ]
     },
     "execution_count": 1,
     "metadata": {},
     "output_type": "execute_result"
    }
   ],
   "source": [
    "'hello world'"
   ]
  },
  {
   "cell_type": "code",
   "execution_count": 6,
   "id": "99a4d187-6540-4684-8b29-7319bc360f48",
   "metadata": {},
   "outputs": [
    {
     "data": {
      "text/plain": [
       "'DatascienceDatascienceDatascienceDatascienceDatascienceDatascienceDatascienceDatascienceDatascienceDatascienceDatascienceDatascienceDatascienceDatascienceDatascienceDatascienceDatascienceDatascienceDatascienceDatascienceDatascienceDatascienceDatascienceDatascienceDatascienceDatascienceDatascienceDatascienceDatascienceDatascienceDatascienceDatascienceDatascienceDatascienceDatascienceDatascienceDatascienceDatascienceDatascienceDatascienceDatascienceDatascienceDatascienceDatascienceDatascienceDatascienceDatascienceDatascienceDatascienceDatascienceDatascienceDatascienceDatascienceDatascienceDatascienceDatascienceDatascienceDatascienceDatascienceDatascienceDatascienceDatascienceDatascienceDatascienceDatascienceDatascienceDatascienceDatascienceDatascienceDatascienceDatascienceDatascienceDatascienceDatascienceDatascienceDatascienceDatascienceDatascienceDatascienceDatascienceDatascienceDatascienceDatascienceDatascienceDatascienceDatascienceDatascienceDatascienceDatascienceDatascienceDatascienceDatascienceDatascienceDatascienceDatascienceDatascienceDatascienceDatascienceDatascienceDatascience'"
      ]
     },
     "execution_count": 6,
     "metadata": {},
     "output_type": "execute_result"
    }
   ],
   "source": [
    "'Datascience'*100"
   ]
  },
  {
   "cell_type": "code",
   "execution_count": 7,
   "id": "5df575ea-4b3e-4526-9124-ec6a274962a4",
   "metadata": {},
   "outputs": [],
   "source": [
    "d={}"
   ]
  },
  {
   "cell_type": "code",
   "execution_count": 8,
   "id": "6cb446f8-c85c-486f-a73e-e6292c2bc622",
   "metadata": {},
   "outputs": [
    {
     "data": {
      "text/plain": [
       "dict"
      ]
     },
     "execution_count": 8,
     "metadata": {},
     "output_type": "execute_result"
    }
   ],
   "source": [
    "type(d)"
   ]
  },
  {
   "cell_type": "code",
   "execution_count": 12,
   "id": "752de66b-a461-4792-89a2-346e3c17de5c",
   "metadata": {},
   "outputs": [],
   "source": [
    "D1={'Name':'Panchanan' ,' mail id':'padhyp48@gmail.com' , 'Number':993065054 , 'Name':'prathamesh'}"
   ]
  },
  {
   "cell_type": "code",
   "execution_count": 13,
   "id": "cb36bbc7-075a-4410-a9d2-4e22c58af2ff",
   "metadata": {},
   "outputs": [
    {
     "data": {
      "text/plain": [
       "{'Name': 'prathamesh', ' mail id': 'padhyp48@gmail.com', 'Number': 993065054}"
      ]
     },
     "execution_count": 13,
     "metadata": {},
     "output_type": "execute_result"
    }
   ],
   "source": [
    "D1"
   ]
  },
  {
   "cell_type": "code",
   "execution_count": 14,
   "id": "fef6249c-b0e4-4953-b015-2ee635303ad6",
   "metadata": {},
   "outputs": [
    {
     "data": {
      "text/plain": [
       "'prathamesh'"
      ]
     },
     "execution_count": 14,
     "metadata": {},
     "output_type": "execute_result"
    }
   ],
   "source": [
    "D1['Name']"
   ]
  },
  {
   "cell_type": "code",
   "execution_count": 25,
   "id": "22de1f40-20d6-48cd-ae1c-5abdbf9c7107",
   "metadata": {},
   "outputs": [],
   "source": [
    "Car = {\"brand\": \"Ford\" ,  \"model\": \"Mustang\", \"year\": 1964}"
   ]
  },
  {
   "cell_type": "code",
   "execution_count": 27,
   "id": "40f73db8-4514-44de-9d39-4dfd23f65376",
   "metadata": {},
   "outputs": [
    {
     "ename": "SyntaxError",
     "evalue": "invalid syntax (944060373.py, line 1)",
     "output_type": "error",
     "traceback": [
      "\u001b[0;36m  Cell \u001b[0;32mIn[27], line 1\u001b[0;36m\u001b[0m\n\u001b[0;31m    Car feature ={'brand': 'Ford', 'model': 'Mustang', 'year':1964,'Owner':'Panchanan'}\u001b[0m\n\u001b[0m        ^\u001b[0m\n\u001b[0;31mSyntaxError\u001b[0m\u001b[0;31m:\u001b[0m invalid syntax\n"
     ]
    }
   ],
   "source": [
    "Car feature ={'brand': 'Ford', 'model': 'Mustang', 'year':1964,'Owner':'Panchanan'}"
   ]
  },
  {
   "cell_type": "code",
   "execution_count": 23,
   "id": "dd9a22d2-59eb-42a7-b214-016bee8f1ef2",
   "metadata": {},
   "outputs": [],
   "source": [
    "Car_feature = {\"brand\": \"Ford\", \"model\": \"Mustang\", \"year\": 1964}"
   ]
  },
  {
   "cell_type": "code",
   "execution_count": 24,
   "id": "437abed2-017d-4b1b-bc33-eb4bb9465864",
   "metadata": {},
   "outputs": [
    {
     "data": {
      "text/plain": [
       "{'brand': 'Ford', 'model': 'Mustang', 'year': 1964}"
      ]
     },
     "execution_count": 24,
     "metadata": {},
     "output_type": "execute_result"
    }
   ],
   "source": [
    "Car_feature"
   ]
  },
  {
   "cell_type": "code",
   "execution_count": 26,
   "id": "5b13bfb7-d345-49ed-a99c-0399e0116dcc",
   "metadata": {},
   "outputs": [
    {
     "data": {
      "text/plain": [
       "'Ford'"
      ]
     },
     "execution_count": 26,
     "metadata": {},
     "output_type": "execute_result"
    }
   ],
   "source": [
    "Car['brand']"
   ]
  },
  {
   "cell_type": "code",
   "execution_count": 29,
   "id": "e4b2cde7-c66e-4e9d-b898-0d1b08ae25ea",
   "metadata": {},
   "outputs": [],
   "source": [
    "del Car['brand']"
   ]
  },
  {
   "cell_type": "code",
   "execution_count": 30,
   "id": "2bd8d794-e13b-4586-9a74-133fc14fcdfc",
   "metadata": {},
   "outputs": [
    {
     "data": {
      "text/plain": [
       "{'model': 'Mustang', 'year': 1964}"
      ]
     },
     "execution_count": 30,
     "metadata": {},
     "output_type": "execute_result"
    }
   ],
   "source": [
    "Car"
   ]
  },
  {
   "cell_type": "code",
   "execution_count": 33,
   "id": "86590daa-1357-426b-a14b-f0bc045ed98f",
   "metadata": {},
   "outputs": [],
   "source": [
    "Car['brand']=['Ford']"
   ]
  },
  {
   "cell_type": "code",
   "execution_count": 32,
   "id": "b46a1c60-975a-4ec1-a40c-fec220f8b86c",
   "metadata": {},
   "outputs": [
    {
     "data": {
      "text/plain": [
       "{'model': 'Mustang', 'year': 1964, 'brand': ['Ford']}"
      ]
     },
     "execution_count": 32,
     "metadata": {},
     "output_type": "execute_result"
    }
   ],
   "source": [
    "Car"
   ]
  },
  {
   "cell_type": "code",
   "execution_count": 38,
   "id": "d8542093-f0bc-4130-994b-fae9881cb0b1",
   "metadata": {},
   "outputs": [
    {
     "data": {
      "text/plain": [
       "['model', 'year', 'brand']"
      ]
     },
     "execution_count": 38,
     "metadata": {},
     "output_type": "execute_result"
    }
   ],
   "source": [
    "list(Car.keys())"
   ]
  },
  {
   "cell_type": "code",
   "execution_count": 39,
   "id": "40f41fae-ae91-4cad-8a75-11575afca6b7",
   "metadata": {},
   "outputs": [
    {
     "data": {
      "text/plain": [
       "['Mustang', 1964, ['Ford']]"
      ]
     },
     "execution_count": 39,
     "metadata": {},
     "output_type": "execute_result"
    }
   ],
   "source": [
    "list(Car.values())"
   ]
  },
  {
   "cell_type": "code",
   "execution_count": 40,
   "id": "7f6730eb-3622-4899-bd82-a77d0c03aaa3",
   "metadata": {},
   "outputs": [
    {
     "data": {
      "text/plain": [
       "[('model', 'Mustang'), ('year', 1964), ('brand', ['Ford'])]"
      ]
     },
     "execution_count": 40,
     "metadata": {},
     "output_type": "execute_result"
    }
   ],
   "source": [
    "list(Car.items())"
   ]
  },
  {
   "cell_type": "code",
   "execution_count": 41,
   "id": "09718bdb-82fd-4750-95e2-f74395f709a7",
   "metadata": {},
   "outputs": [],
   "source": [
    "Bike={'Brand':'Apache' , 'Model':'RTR' , 'Year bought': 2018 ,'Colour' : 'Red' , 'Owner': ' Guts'}"
   ]
  },
  {
   "cell_type": "code",
   "execution_count": 42,
   "id": "c0d014bb-0411-4ecc-a25c-a6d1476abd2b",
   "metadata": {},
   "outputs": [
    {
     "data": {
      "text/plain": [
       "{'Brand': 'Apache',\n",
       " 'Model': 'RTR',\n",
       " 'Year bought': 2018,\n",
       " 'Colour': 'Red',\n",
       " 'Owner': ' Guts'}"
      ]
     },
     "execution_count": 42,
     "metadata": {},
     "output_type": "execute_result"
    }
   ],
   "source": [
    "Bike"
   ]
  },
  {
   "cell_type": "code",
   "execution_count": 43,
   "id": "1a99c33c-57db-404a-951b-a5aa83fc9d49",
   "metadata": {},
   "outputs": [
    {
     "data": {
      "text/plain": [
       "['Brand', 'Model', 'Year bought', 'Colour', 'Owner']"
      ]
     },
     "execution_count": 43,
     "metadata": {},
     "output_type": "execute_result"
    }
   ],
   "source": [
    "list(Bike.keys())"
   ]
  },
  {
   "cell_type": "markdown",
   "id": "03ec2d15-acca-4ecc-817b-cc7d9f2786bd",
   "metadata": {},
   "source": [
    "##Contrl Flow / Control statment"
   ]
  },
  {
   "cell_type": "code",
   "execution_count": 45,
   "id": "260d46c2-913a-47f5-9862-d76f47bc6a6c",
   "metadata": {},
   "outputs": [
    {
     "ename": "IndentationError",
     "evalue": "unindent does not match any outer indentation level (<tokenize>, line 37)",
     "output_type": "error",
     "traceback": [
      "\u001b[0;36m  File \u001b[0;32m<tokenize>:37\u001b[0;36m\u001b[0m\n\u001b[0;31m    elif choice == '2':\u001b[0m\n\u001b[0m    ^\u001b[0m\n\u001b[0;31mIndentationError\u001b[0m\u001b[0;31m:\u001b[0m unindent does not match any outer indentation level\n"
     ]
    }
   ],
   "source": [
    "# This function adds two numbers\n",
    "def add(x, y):\n",
    "    return x + y\n",
    "\n",
    "# This function subtracts two numbers\n",
    "def subtract(x, y):\n",
    "    return x - y\n",
    "\n",
    "# This function multiplies two numbers\n",
    "def multiply(x, y):\n",
    "    return x * y\n",
    "\n",
    "# This function divides two numbers\n",
    "def divide(x, y):\n",
    "    return x / y\n",
    "\n",
    "print(\"Select operation:\")\n",
    "print(\"1. Add\")\n",
    "print(\"2. Subtract\")\n",
    "print(\"3. Multiply\")\n",
    "print(\"4. Divide\")\n",
    "\n",
    "while True:\n",
    "    # Take input from the user\n",
    "    choice = input(\"Enter choice (1/2/3/4): \")\n",
    "   # Check if the choice is one of the four options\n",
    "    if choice in ('1', '2', '3', '4'):\n",
    "        try:\n",
    "            num1 = float(input(\"Enter first number: \"))\n",
    "            num2 = float(input(\"Enter second number: \"))\n",
    "        except ValueError:\n",
    "            print(\"Invalid input. Please enter a number.\")\n",
    "            continue      \n",
    "    if choice == '1':\n",
    "            print(f\"{num1} + {num2} = {add(num1, num2)}\")\n",
    "        elif choice == '2':\n",
    "            print(f\"{num1} - {num2} = {subtract(num1, num2)}\")\n",
    "        elif choice == '3':\n",
    "            print(f\"{num1} * {num2} = {multiply(num1, num2)}\")\n",
    "        elif choice == '4':\n",
    "            print(f\"{num1} / {num2} = {divide(num1, num2)}\")\n",
    "\n",
    "        # Check if the user wants another calculation\n",
    "        next_calculation = input(\"Let's do the next calculation? (yes/no): \")\n",
    "        if next_calculation.lower() == \"no\":\n",
    "            break\n",
    "    else:\n",
    "        print(\"Invalid input\")\n",
    "\n"
   ]
  },
  {
   "cell_type": "code",
   "execution_count": 1,
   "id": "34d2f761-b197-48e1-a900-78681f73fa31",
   "metadata": {},
   "outputs": [
    {
     "name": "stdout",
     "output_type": "stream",
     "text": [
      "Select operation:\n",
      "1. Add\n",
      "2. Subtract\n",
      "3. Multiply\n",
      "4. Divide\n"
     ]
    },
    {
     "name": "stdin",
     "output_type": "stream",
     "text": [
      "Enter choice (1/2/3/4):  5\n"
     ]
    },
    {
     "name": "stdout",
     "output_type": "stream",
     "text": [
      "Invalid input\n"
     ]
    },
    {
     "name": "stdin",
     "output_type": "stream",
     "text": [
      "Enter choice (1/2/3/4):  5\n"
     ]
    },
    {
     "name": "stdout",
     "output_type": "stream",
     "text": [
      "Invalid input\n"
     ]
    },
    {
     "name": "stdin",
     "output_type": "stream",
     "text": [
      "Enter choice (1/2/3/4):  1\n",
      "Enter first number:  1\n",
      "Enter second number:  2\n"
     ]
    },
    {
     "name": "stdout",
     "output_type": "stream",
     "text": [
      "1.0 + 2.0 = 3.0\n"
     ]
    },
    {
     "name": "stdin",
     "output_type": "stream",
     "text": [
      "Let's do the next calculation? (yes/no):  no\n"
     ]
    }
   ],
   "source": [
    "# This function adds two numbers\n",
    "def add(x, y):\n",
    "    return x + y\n",
    "\n",
    "# This function subtracts two numbers\n",
    "def subtract(x, y):\n",
    "    return x - y\n",
    "\n",
    "# This function multiplies two numbers\n",
    "def multiply(x, y):\n",
    "    return x * y\n",
    "\n",
    "# This function divides two numbers\n",
    "def divide(x, y):\n",
    "    return x / y\n",
    "\n",
    "print(\"Select operation:\")\n",
    "print(\"1. Add\")\n",
    "print(\"2. Subtract\")\n",
    "print(\"3. Multiply\")\n",
    "print(\"4. Divide\")\n",
    "\n",
    "while True:\n",
    "    # Take input from the user\n",
    "    choice = input(\"Enter choice (1/2/3/4): \")\n",
    "\n",
    "    # Check if the choice is one of the four options\n",
    "    if choice in ('1', '2', '3', '4'):\n",
    "        try:\n",
    "            num1 = float(input(\"Enter first number: \"))\n",
    "            num2 = float(input(\"Enter second number: \"))\n",
    "        except ValueError:\n",
    "            print(\"Invalid input. Please enter a number.\")\n",
    "            continue\n",
    "\n",
    "        if choice == '1':\n",
    "            print(f\"{num1} + {num2} = {add(num1, num2)}\")\n",
    "        elif choice == '2':\n",
    "            print(f\"{num1} - {num2} = {subtract(num1, num2)}\")\n",
    "        elif choice == '3':\n",
    "            print(f\"{num1} * {num2} = {multiply(num1, num2)}\")\n",
    "        elif choice == '4':\n",
    "            print(f\"{num1} / {num2} = {divide(num1, num2)}\")\n",
    "\n",
    "        # Check if the user wants another calculation\n",
    "        next_calculation = input(\"Let's do the next calculation? (yes/no): \")\n",
    "        if next_calculation.lower() == \"no\":\n",
    "            break\n",
    "    else:\n",
    "        print(\"Invalid input\")"
   ]
  },
  {
   "cell_type": "code",
   "execution_count": 2,
   "id": "31a5da37-bb96-412b-9dab-d965f48e4642",
   "metadata": {},
   "outputs": [],
   "source": [
    "l=[1,2,3,4,57,8,9,23,45,67,88,99]"
   ]
  },
  {
   "cell_type": "code",
   "execution_count": 3,
   "id": "60497dfc-2715-4e83-964c-85d263ab5573",
   "metadata": {},
   "outputs": [
    {
     "data": {
      "text/plain": [
       "[1, 2, 3, 4, 57, 8, 9, 23, 45, 67, 88, 99]"
      ]
     },
     "execution_count": 3,
     "metadata": {},
     "output_type": "execute_result"
    }
   ],
   "source": [
    "l"
   ]
  },
  {
   "cell_type": "code",
   "execution_count": 6,
   "id": "a51ea373-638a-473d-857a-b4730b1c24e0",
   "metadata": {},
   "outputs": [
    {
     "ename": "NameError",
     "evalue": "name 'ptint' is not defined",
     "output_type": "error",
     "traceback": [
      "\u001b[0;31m---------------------------------------------------------------------------\u001b[0m",
      "\u001b[0;31mNameError\u001b[0m                                 Traceback (most recent call last)",
      "Cell \u001b[0;32mIn[6], line 2\u001b[0m\n\u001b[1;32m      1\u001b[0m \u001b[38;5;28;01mfor\u001b[39;00m i \u001b[38;5;129;01min\u001b[39;00m l:\n\u001b[0;32m----> 2\u001b[0m     \u001b[43mptint\u001b[49m(i)\n",
      "\u001b[0;31mNameError\u001b[0m: name 'ptint' is not defined"
     ]
    }
   ],
   "source": [
    "for i in l:\n",
    "    ptint(i)"
   ]
  },
  {
   "cell_type": "code",
   "execution_count": 7,
   "id": "cf8c1f61-35ae-404e-9a6b-e8cc49e8db70",
   "metadata": {},
   "outputs": [],
   "source": [
    "l=[1,2,3,4,57,8,9,23,45,67,88,99]"
   ]
  },
  {
   "cell_type": "code",
   "execution_count": 34,
   "id": "55f953c8-872d-4d34-b7ed-a7b946a94e62",
   "metadata": {},
   "outputs": [
    {
     "ename": "TypeError",
     "evalue": "'int' object is not iterable",
     "output_type": "error",
     "traceback": [
      "\u001b[0;31m---------------------------------------------------------------------------\u001b[0m",
      "\u001b[0;31mTypeError\u001b[0m                                 Traceback (most recent call last)",
      "Cell \u001b[0;32mIn[34], line 2\u001b[0m\n\u001b[1;32m      1\u001b[0m l1\u001b[38;5;241m=\u001b[39m[]\n\u001b[0;32m----> 2\u001b[0m \u001b[38;5;28;01mfor\u001b[39;00m i \u001b[38;5;129;01min\u001b[39;00m l :\n\u001b[1;32m      3\u001b[0m     \u001b[38;5;28mprint\u001b[39m(i\u001b[38;5;241m+\u001b[39m\u001b[38;5;241m5\u001b[39m)\n\u001b[1;32m      4\u001b[0m     l1\u001b[38;5;241m.\u001b[39mappend(i\u001b[38;5;241m+\u001b[39m\u001b[38;5;241m1\u001b[39m)\n",
      "\u001b[0;31mTypeError\u001b[0m: 'int' object is not iterable"
     ]
    }
   ],
   "source": [
    "l1=[]\n",
    "for i in l :\n",
    "    print(i+5)\n",
    "    l1.append(i+1)\n",
    "print (l1)"
   ]
  },
  {
   "cell_type": "code",
   "execution_count": 15,
   "id": "3f115952-f9e8-4c50-aeaf-6e3a43ee26a7",
   "metadata": {},
   "outputs": [],
   "source": [
    "p=[23,444,55,67,88,99,0,9888,112,23,2,333,444,]"
   ]
  },
  {
   "cell_type": "code",
   "execution_count": 17,
   "id": "132bc8ff-bf4b-4dcd-a74e-ab5ef5a162fb",
   "metadata": {},
   "outputs": [
    {
     "name": "stdout",
     "output_type": "stream",
     "text": [
      "23\n",
      "444\n",
      "55\n",
      "67\n",
      "88\n",
      "99\n",
      "0\n",
      "9888\n",
      "112\n",
      "23\n",
      "2\n",
      "333\n",
      "444\n"
     ]
    }
   ],
   "source": [
    "for l in p:\n",
    "    print(l)"
   ]
  },
  {
   "cell_type": "code",
   "execution_count": 35,
   "id": "4ec26190-b413-470a-a012-c3cbb6ec27dd",
   "metadata": {},
   "outputs": [
    {
     "ename": "TypeError",
     "evalue": "'int' object is not iterable",
     "output_type": "error",
     "traceback": [
      "\u001b[0;31m---------------------------------------------------------------------------\u001b[0m",
      "\u001b[0;31mTypeError\u001b[0m                                 Traceback (most recent call last)",
      "Cell \u001b[0;32mIn[35], line 2\u001b[0m\n\u001b[1;32m      1\u001b[0m l1 \u001b[38;5;241m=\u001b[39m []\n\u001b[0;32m----> 2\u001b[0m \u001b[38;5;28;01mfor\u001b[39;00m i \u001b[38;5;129;01min\u001b[39;00m l:\n\u001b[1;32m      3\u001b[0m     \u001b[38;5;28mprint\u001b[39m(i \u001b[38;5;241m+\u001b[39m \u001b[38;5;241m5\u001b[39m)\n\u001b[1;32m      4\u001b[0m     l1\u001b[38;5;241m.\u001b[39mappend(i \u001b[38;5;241m+\u001b[39m \u001b[38;5;241m1\u001b[39m)\n",
      "\u001b[0;31mTypeError\u001b[0m: 'int' object is not iterable"
     ]
    }
   ],
   "source": [
    "l1 = []\n",
    "for i in l:\n",
    "    print(i + 5)\n",
    "    l1.append(i + 1)\n",
    "print(l1)"
   ]
  },
  {
   "cell_type": "code",
   "execution_count": 36,
   "id": "859e2f6d-49e3-42a2-ad15-ac76729fe5cb",
   "metadata": {},
   "outputs": [],
   "source": [
    "l=[1,2,3,4,57,8,9,23,45,67,88,99]"
   ]
  },
  {
   "cell_type": "code",
   "execution_count": 37,
   "id": "9b240e87-ef39-4a58-9009-382ce6a3b474",
   "metadata": {},
   "outputs": [
    {
     "data": {
      "text/plain": [
       "[1, 2, 3, 4, 57, 8, 9, 23, 45, 67, 88, 99]"
      ]
     },
     "execution_count": 37,
     "metadata": {},
     "output_type": "execute_result"
    }
   ],
   "source": [
    "l"
   ]
  },
  {
   "cell_type": "code",
   "execution_count": 42,
   "id": "8a76ae94-6a71-410a-b3e0-3698cae2b429",
   "metadata": {},
   "outputs": [
    {
     "name": "stdout",
     "output_type": "stream",
     "text": [
      "2\n",
      "3\n",
      "4\n",
      "5\n",
      "58\n",
      "9\n",
      "10\n",
      "24\n",
      "46\n",
      "68\n",
      "89\n",
      "100\n"
     ]
    },
    {
     "data": {
      "text/plain": [
       "[2, 3, 4, 5, 58, 9, 10, 24, 46, 68, 89, 100]"
      ]
     },
     "execution_count": 42,
     "metadata": {},
     "output_type": "execute_result"
    }
   ],
   "source": [
    "l1=[]\n",
    "for i in l:\n",
    "    print(i+1)\n",
    "    l1.append(i+1)\n",
    "l1"
   ]
  },
  {
   "cell_type": "code",
   "execution_count": 44,
   "id": "4ff78d0b-6d40-4a90-ba69-1fd03f12b8a9",
   "metadata": {},
   "outputs": [],
   "source": [
    "p=['panchananan','prathamesh','goku','hohan','vegeta','op','doremon',]"
   ]
  },
  {
   "cell_type": "code",
   "execution_count": 45,
   "id": "09b13f6a-3e9c-4bc7-a09a-e66b7952afe2",
   "metadata": {},
   "outputs": [
    {
     "data": {
      "text/plain": [
       "['panchananan', 'prathamesh', 'goku', 'hohan', 'vegeta', 'op', 'doremon']"
      ]
     },
     "execution_count": 45,
     "metadata": {},
     "output_type": "execute_result"
    }
   ],
   "source": [
    "p"
   ]
  },
  {
   "cell_type": "code",
   "execution_count": 49,
   "id": "ffa41e38-e28b-47b3-a542-eaf7d908fa85",
   "metadata": {},
   "outputs": [
    {
     "name": "stdout",
     "output_type": "stream",
     "text": [
      "panchananan\n",
      "prathamesh\n",
      "goku\n",
      "hohan\n",
      "vegeta\n",
      "op\n",
      "doremon\n"
     ]
    },
    {
     "data": {
      "text/plain": [
       "['PANCHANANAN', 'PRATHAMESH', 'GOKU', 'HOHAN', 'VEGETA', 'OP', 'DOREMON']"
      ]
     },
     "execution_count": 49,
     "metadata": {},
     "output_type": "execute_result"
    }
   ],
   "source": [
    "N=[]\n",
    "for i in p:\n",
    "    print(i)\n",
    "    N.append(i.upper())\n",
    "N"
   ]
  },
  {
   "cell_type": "code",
   "execution_count": 54,
   "id": "49db24f8-c1a9-40e3-91d6-323dfd314e7a",
   "metadata": {},
   "outputs": [],
   "source": [
    "k=[1,2,3,4,5,6,'pp',11,55,77,88,99,'aa','gg','vk','gk']"
   ]
  },
  {
   "cell_type": "code",
   "execution_count": 58,
   "id": "8097a467-4339-4b04-bb96-b78eb4d99f2e",
   "metadata": {},
   "outputs": [
    {
     "ename": "IndentationError",
     "evalue": "unexpected indent (3800932169.py, line 3)",
     "output_type": "error",
     "traceback": [
      "\u001b[0;36m  Cell \u001b[0;32mIn[58], line 3\u001b[0;36m\u001b[0m\n\u001b[0;31m    for i in k :\u001b[0m\n\u001b[0m    ^\u001b[0m\n\u001b[0;31mIndentationError\u001b[0m\u001b[0;31m:\u001b[0m unexpected indent\n"
     ]
    }
   ],
   "source": [
    "l1=[]\n",
    "l2=[]\n",
    " for i in k :\n",
    "        if type(i)==int or type(i)==float:\n",
    "             l1.append(i):\n",
    "                else:\n",
    "                l2.append(i)"
   ]
  },
  {
   "cell_type": "code",
   "execution_count": 59,
   "id": "ef8a78d4-6333-416e-96e7-a0c01b9238f4",
   "metadata": {},
   "outputs": [],
   "source": [
    "k=[1,2,3,4,5,6,'pp',11,55,77,88,99,'aa','gg','vk','gk']"
   ]
  },
  {
   "cell_type": "code",
   "execution_count": 66,
   "id": "f282542b-bafd-4508-b556-a30f95f9d0de",
   "metadata": {},
   "outputs": [
    {
     "ename": "SyntaxError",
     "evalue": "invalid syntax (4021261379.py, line 5)",
     "output_type": "error",
     "traceback": [
      "\u001b[0;36m  Cell \u001b[0;32mIn[66], line 5\u001b[0;36m\u001b[0m\n\u001b[0;31m    l1_num.append(i):\u001b[0m\n\u001b[0m                    ^\u001b[0m\n\u001b[0;31mSyntaxError\u001b[0m\u001b[0;31m:\u001b[0m invalid syntax\n"
     ]
    }
   ],
   "source": [
    "l1_num=[]\n",
    "l2_str=[]\n",
    "for i in k :\n",
    "    if type(i)==int or type(i)==float:\n",
    "         l1_num.append(i):\n",
    "            else:\n",
    "                l2_str.append(i)"
   ]
  },
  {
   "cell_type": "code",
   "execution_count": 67,
   "id": "8b87269e-b582-4ad7-9fc5-2e377bae5c02",
   "metadata": {},
   "outputs": [
    {
     "name": "stdout",
     "output_type": "stream",
     "text": [
      "Numeric elements: [1, 2, 3, 4, 5, 6, 11, 55, 77, 88, 99]\n",
      "String elements: ['pp', 'aa', 'gg', 'vk', 'gk']\n"
     ]
    }
   ],
   "source": [
    "l1_num = []\n",
    "l2_str = []\n",
    "\n",
    "for i in k:\n",
    "    if isinstance(i, (int, float)):\n",
    "        l1_num.append(i)\n",
    "    else:\n",
    "        l2_str.append(i)\n",
    "\n",
    "print(\"Numeric elements:\", l1_num)\n",
    "print(\"String elements:\", l2_str)"
   ]
  },
  {
   "cell_type": "code",
   "execution_count": 70,
   "id": "901a734c-2715-4e67-9244-805fb925be18",
   "metadata": {},
   "outputs": [],
   "source": [
    "p=[1,2,3,45,6,78,9,99,88,77,99,'panch','ppp','cccc','zzzz','ccccc','mmmm','ttttt']"
   ]
  },
  {
   "cell_type": "code",
   "execution_count": 84,
   "id": "fb14cd6e-1db7-48a1-bb93-890d86d1f16b",
   "metadata": {},
   "outputs": [
    {
     "name": "stdout",
     "output_type": "stream",
     "text": [
      "Numeric elements: [1, 2, 3, 45, 6, 78, 9, 99, 88, 77, 99]\n",
      "String elements: ['panch', 'ppp', 'cccc', 'zzzz', 'ccccc', 'mmmm', 'ttttt']\n"
     ]
    }
   ],
   "source": [
    "Z = []\n",
    "K = []\n",
    "\n",
    "for i in k:\n",
    "    if isinstance(i, (int, float)):\n",
    "        Z.append(i)\n",
    "    else:\n",
    "        K.append(i)\n",
    "\n",
    "print(\"Numeric elements:\", Z)\n",
    "print(\"String elements:\", K)"
   ]
  },
  {
   "cell_type": "code",
   "execution_count": 82,
   "id": "2e1c6ef0-a760-43de-a5dc-3a11623d3229",
   "metadata": {},
   "outputs": [
    {
     "data": {
      "text/plain": [
       "[]"
      ]
     },
     "execution_count": 82,
     "metadata": {},
     "output_type": "execute_result"
    }
   ],
   "source": [
    "Z"
   ]
  },
  {
   "cell_type": "code",
   "execution_count": 85,
   "id": "95e7112a-7ae7-496b-a8d1-fba897f8b5c6",
   "metadata": {},
   "outputs": [],
   "source": [
    "p=[1,2,3,45,6,78,9,99,88,77,99,'panch','ppp','cccc','zzzz','ccccc','mmmm','ttttt']"
   ]
  },
  {
   "cell_type": "code",
   "execution_count": 96,
   "id": "dd3da5da-ae46-42a6-9bef-ab6a8e27ba64",
   "metadata": {},
   "outputs": [],
   "source": [
    "Z=[]\n",
    "K=[]\n",
    "for i in p:\n",
    "    if type(i)==int or type(i)==float:\n",
    "        Z.append(i)\n",
    "    else:\n",
    "            K.append(i)"
   ]
  },
  {
   "cell_type": "code",
   "execution_count": 97,
   "id": "75b4b278-b50d-457d-86e4-293c84d91417",
   "metadata": {},
   "outputs": [
    {
     "data": {
      "text/plain": [
       "[1,\n",
       " 2,\n",
       " 3,\n",
       " 45,\n",
       " 6,\n",
       " 78,\n",
       " 9,\n",
       " 99,\n",
       " 88,\n",
       " 77,\n",
       " 99,\n",
       " 'panch',\n",
       " 'ppp',\n",
       " 'cccc',\n",
       " 'zzzz',\n",
       " 'ccccc',\n",
       " 'mmmm',\n",
       " 'ttttt']"
      ]
     },
     "execution_count": 97,
     "metadata": {},
     "output_type": "execute_result"
    }
   ],
   "source": [
    "k"
   ]
  },
  {
   "cell_type": "code",
   "execution_count": 102,
   "id": "da7afd6d-c2e5-425b-b7c5-6e438210fb4d",
   "metadata": {},
   "outputs": [
    {
     "name": "stdout",
     "output_type": "stream",
     "text": [
      "String_elements ['panch', 'ppp', 'cccc', 'zzzz', 'ccccc', 'mmmm', 'ttttt']\n",
      "interger _elements [1, 2, 3, 45, 6, 78, 9, 99, 88, 77, 99]\n"
     ]
    }
   ],
   "source": [
    "Z=[]\n",
    "K=[]\n",
    "for i in p:\n",
    "    if type(i)==int or type(i)==float:\n",
    "        Z.append(i)\n",
    "    else:\n",
    "            K.append(i)\n",
    "print('String_elements',K)\n",
    "print('interger _elements',Z)"
   ]
  },
  {
   "cell_type": "code",
   "execution_count": 100,
   "id": "44649024-3ddc-4e54-a438-274ad2819933",
   "metadata": {},
   "outputs": [
    {
     "data": {
      "text/plain": [
       "[1, 2, 3, 45, 6, 78, 9, 99, 88, 77, 99]"
      ]
     },
     "execution_count": 100,
     "metadata": {},
     "output_type": "execute_result"
    }
   ],
   "source": [
    "Z"
   ]
  },
  {
   "cell_type": "code",
   "execution_count": 101,
   "id": "2d522b44-78e6-421e-8a31-d457cf0c560c",
   "metadata": {},
   "outputs": [
    {
     "data": {
      "text/plain": [
       "['panch', 'ppp', 'cccc', 'zzzz', 'ccccc', 'mmmm', 'ttttt']"
      ]
     },
     "execution_count": 101,
     "metadata": {},
     "output_type": "execute_result"
    }
   ],
   "source": [
    "K"
   ]
  },
  {
   "cell_type": "code",
   "execution_count": 104,
   "id": "58343253-34a7-469d-9b97-b37bc8cf347f",
   "metadata": {},
   "outputs": [],
   "source": [
    "p=[11,2222,3333,4444,'ppp',6666,'nnnn','kkkk','zzzz','panchan','genz','geny']"
   ]
  },
  {
   "cell_type": "code",
   "execution_count": 120,
   "id": "97da8d4b-8aa1-4520-876a-73987a3d0520",
   "metadata": {},
   "outputs": [
    {
     "name": "stdout",
     "output_type": "stream",
     "text": [
      "Integer [11, 2222, 3333, 4444, 6666]\n",
      "Strings ['ppp', 'nnnn', 'kkkk', 'zzzz', 'panchan', 'genz', 'geny']\n"
     ]
    }
   ],
   "source": [
    "L1=[]\n",
    "l2=[]\n",
    "for i in p:\n",
    "    if isinstance(i, (int, float)):\n",
    "        L1.append(i)\n",
    "    else:\n",
    "        l2.append(i)\n",
    "print('Integer',L1)\n",
    "print ('Strings',l2)"
   ]
  },
  {
   "cell_type": "code",
   "execution_count": 119,
   "id": "ac06cc35-3968-4e3d-b98b-149181e24f71",
   "metadata": {},
   "outputs": [
    {
     "ename": "NameError",
     "evalue": "name 'L2' is not defined",
     "output_type": "error",
     "traceback": [
      "\u001b[0;31m---------------------------------------------------------------------------\u001b[0m",
      "\u001b[0;31mNameError\u001b[0m                                 Traceback (most recent call last)",
      "Cell \u001b[0;32mIn[119], line 7\u001b[0m\n\u001b[1;32m      5\u001b[0m         L1\u001b[38;5;241m.\u001b[39mappend(i)\n\u001b[1;32m      6\u001b[0m     \u001b[38;5;28;01melse\u001b[39;00m:\n\u001b[0;32m----> 7\u001b[0m         \u001b[43mL2\u001b[49m\u001b[38;5;241m.\u001b[39mappend(i)\n\u001b[1;32m      8\u001b[0m \u001b[38;5;28mprint\u001b[39m(\u001b[38;5;124m'\u001b[39m\u001b[38;5;124mInteger\u001b[39m\u001b[38;5;124m'\u001b[39m,L1)\n\u001b[1;32m      9\u001b[0m \u001b[38;5;28mprint\u001b[39m (\u001b[38;5;124m'\u001b[39m\u001b[38;5;124mStrings\u001b[39m\u001b[38;5;124m'\u001b[39m,L2)\n",
      "\u001b[0;31mNameError\u001b[0m: name 'L2' is not defined"
     ]
    }
   ],
   "source": [
    "L1=[]\n",
    "l2=[]\n",
    "for i in p:\n",
    "    if isinstance(i, (int, float)):\n",
    "        L1.append(i)\n",
    "    else:\n",
    "        L2.append(i)\n",
    "print('Integer',L1)\n",
    "print ('Strings',L2)"
   ]
  },
  {
   "cell_type": "code",
   "execution_count": 121,
   "id": "b04e395b-6b65-489e-a7e2-69e0039aa1a4",
   "metadata": {},
   "outputs": [],
   "source": [
    "PP=[11,2222,3333,4444,'ppp',6666,'nnnn','kkkk','zzzz','panchan','genz','geny']"
   ]
  },
  {
   "cell_type": "code",
   "execution_count": null,
   "id": "3b089085-2263-47fa-aa49-1d7bf74a5930",
   "metadata": {},
   "outputs": [],
   "source": [
    "Integers[]\n",
    "Strings[]\n",
    "for i in pp:\n",
    "    if isinstance(i,(int,float)):\n",
    "        Integers."
   ]
  }
 ],
 "metadata": {
  "kernelspec": {
   "display_name": "Python 3 (ipykernel)",
   "language": "python",
   "name": "python3"
  },
  "language_info": {
   "codemirror_mode": {
    "name": "ipython",
    "version": 3
   },
   "file_extension": ".py",
   "mimetype": "text/x-python",
   "name": "python",
   "nbconvert_exporter": "python",
   "pygments_lexer": "ipython3",
   "version": "3.10.8"
  }
 },
 "nbformat": 4,
 "nbformat_minor": 5
}

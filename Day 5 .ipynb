{
 "cells": [
  {
   "cell_type": "code",
   "execution_count": 18,
   "id": "a66e7762-49f3-41db-bd0c-ba05cc57fdcb",
   "metadata": {},
   "outputs": [
    {
     "name": "stdin",
     "output_type": "stream",
     "text": [
      "enter your shopping price 1000000000\n"
     ]
    },
    {
     "name": "stdout",
     "output_type": "stream",
     "text": [
      "you have got 50% off\n"
     ]
    }
   ],
   "source": [
    "product_price = int (input (\"enter your shopping price\"))\n",
    "if product_price == 5000 :\n",
    "           print (\"you got 20% off\")\n",
    "elif product_price == 2999 :\n",
    "          print (\"you have won trip to indonesia\")\n",
    "if product_price > 6000 :\n",
    "          print (\"you have got 50% off\")\n",
    "else:\n",
    "    print ('Better luck next time')"
   ]
  },
  {
   "cell_type": "code",
   "execution_count": 17,
   "id": "a2983330-79c6-44a5-a64a-f8bb21ee4e10",
   "metadata": {},
   "outputs": [
    {
     "name": "stdin",
     "output_type": "stream",
     "text": [
      "enter token_number 25\n"
     ]
    },
    {
     "name": "stdout",
     "output_type": "stream",
     "text": [
      "50 percent discount\n"
     ]
    }
   ],
   "source": [
    "token_number = int (input('enter token_number'))\n",
    "if token_number == 19:\n",
    "    print('Luck draw')\n",
    "elif token_number ==15:\n",
    "    print (' Trip to Ely')\n",
    "if token_number ==25:\n",
    "    print('50 percent discount')\n",
    "else:\n",
    "    print('Better luck next time')"
   ]
  },
  {
   "cell_type": "code",
   "execution_count": 29,
   "id": "3b8828c9-cc43-4750-a9b6-c3396ff71ac0",
   "metadata": {},
   "outputs": [
    {
     "name": "stdin",
     "output_type": "stream",
     "text": [
      "enter your age 22\n"
     ]
    },
    {
     "name": "stdout",
     "output_type": "stream",
     "text": [
      "eleigible to vote\n"
     ]
    }
   ],
   "source": [
    "vote = int(input('enter your age'))\n",
    "if age>=18:\n",
    "    print('eleigible to vote')\n",
    "else:\n",
    "    print('you are not elegible')"
   ]
  },
  {
   "cell_type": "code",
   "execution_count": 28,
   "id": "807f8fab-3e46-4dfe-a28b-0096d09c973b",
   "metadata": {},
   "outputs": [
    {
     "ename": "SyntaxError",
     "evalue": "expected ':' (2122420787.py, line 4)",
     "output_type": "error",
     "traceback": [
      "\u001b[0;36m  Cell \u001b[0;32mIn[28], line 4\u001b[0;36m\u001b[0m\n\u001b[0;31m    else\u001b[0m\n\u001b[0m        ^\u001b[0m\n\u001b[0;31mSyntaxError\u001b[0m\u001b[0;31m:\u001b[0m expected ':'\n"
     ]
    }
   ],
   "source": [
    "vote = int(input('enter your age'))\n",
    "if age>=18:\n",
    "    print('eleigible to vote')\n",
    "else\n",
    "    print('you are not elegible')"
   ]
  },
  {
   "cell_type": "code",
   "execution_count": 30,
   "id": "82e1375b-c552-48bd-96f9-64c5e702e543",
   "metadata": {},
   "outputs": [
    {
     "name": "stdin",
     "output_type": "stream",
     "text": [
      "enter your age 15\n"
     ]
    },
    {
     "name": "stdout",
     "output_type": "stream",
     "text": [
      "eleigible to vote\n"
     ]
    }
   ],
   "source": [
    "vote = int(input('enter your age'))\n",
    "if vote>=18:\n",
    "    print('eleigible to vote')\n",
    "else:\n",
    "    print('you are not elegible')"
   ]
  },
  {
   "cell_type": "code",
   "execution_count": 31,
   "id": "6e379562-d067-47f6-b0e7-3e7aa1cf792e",
   "metadata": {},
   "outputs": [
    {
     "name": "stdin",
     "output_type": "stream",
     "text": [
      "enter your age 19\n"
     ]
    },
    {
     "name": "stdout",
     "output_type": "stream",
     "text": [
      "eleigible to vote\n"
     ]
    }
   ],
   "source": [
    "vote = int(input('enter your age'))\n",
    "if vote>=18:\n",
    "    print('eleigible to vote')\n",
    "else:\n",
    "    print('you are not elegible')"
   ]
  },
  {
   "cell_type": "code",
   "execution_count": 32,
   "id": "228a8a9f-3d5a-4869-87e3-8f8a6544f55a",
   "metadata": {},
   "outputs": [],
   "source": [
    "p='pananchanan'"
   ]
  },
  {
   "cell_type": "code",
   "execution_count": 33,
   "id": "6403b3c9-ae79-4a90-85e6-a51f956c8b81",
   "metadata": {},
   "outputs": [
    {
     "data": {
      "text/plain": [
       "'n'"
      ]
     },
     "execution_count": 33,
     "metadata": {},
     "output_type": "execute_result"
    }
   ],
   "source": [
    "p[-1]"
   ]
  },
  {
   "cell_type": "code",
   "execution_count": 34,
   "id": "f38a0b42-8db1-4d33-bd6e-f96c5a352b5b",
   "metadata": {},
   "outputs": [
    {
     "data": {
      "text/plain": [
       "'nanahcnanap'"
      ]
     },
     "execution_count": 34,
     "metadata": {},
     "output_type": "execute_result"
    }
   ],
   "source": [
    "p[::-1]"
   ]
  },
  {
   "cell_type": "code",
   "execution_count": 35,
   "id": "bdf7c938-6952-4ca2-b02f-810b6c3add64",
   "metadata": {},
   "outputs": [],
   "source": [
    "p=('prathamesh chutiya')"
   ]
  },
  {
   "cell_type": "code",
   "execution_count": 36,
   "id": "3f452511-4d2b-47a3-b1ad-f9950192d1e3",
   "metadata": {},
   "outputs": [
    {
     "data": {
      "text/plain": [
       "'ayituhc hsemahtarp'"
      ]
     },
     "execution_count": 36,
     "metadata": {},
     "output_type": "execute_result"
    }
   ],
   "source": [
    "p[::-1]"
   ]
  },
  {
   "cell_type": "code",
   "execution_count": null,
   "id": "7581b903-a518-474f-8c2d-d2634676b460",
   "metadata": {},
   "outputs": [],
   "source": [
    "p{"
   ]
  }
 ],
 "metadata": {
  "kernelspec": {
   "display_name": "Python 3 (ipykernel)",
   "language": "python",
   "name": "python3"
  },
  "language_info": {
   "codemirror_mode": {
    "name": "ipython",
    "version": 3
   },
   "file_extension": ".py",
   "mimetype": "text/x-python",
   "name": "python",
   "nbconvert_exporter": "python",
   "pygments_lexer": "ipython3",
   "version": "3.10.8"
  }
 },
 "nbformat": 4,
 "nbformat_minor": 5
}

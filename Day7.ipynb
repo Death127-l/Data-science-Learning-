{
 "cells": [
  {
   "cell_type": "code",
   "execution_count": 1,
   "id": "8e4ecfc9-cd5a-4189-846c-68d12af04e4d",
   "metadata": {},
   "outputs": [],
   "source": [
    "p='panchanaan'"
   ]
  },
  {
   "cell_type": "code",
   "execution_count": 2,
   "id": "219b2c68-c376-4bec-8de0-b805610892d7",
   "metadata": {},
   "outputs": [
    {
     "data": {
      "text/plain": [
       "'panchanaan'"
      ]
     },
     "execution_count": 2,
     "metadata": {},
     "output_type": "execute_result"
    }
   ],
   "source": [
    "p"
   ]
  },
  {
   "cell_type": "code",
   "execution_count": 4,
   "id": "2e2ce46a-ec7e-47d3-9c3c-4ee7f945f5ab",
   "metadata": {},
   "outputs": [
    {
     "data": {
      "text/plain": [
       "'panchanaan1'"
      ]
     },
     "execution_count": 4,
     "metadata": {},
     "output_type": "execute_result"
    }
   ],
   "source": [
    "p+'1'"
   ]
  },
  {
   "cell_type": "code",
   "execution_count": 5,
   "id": "c7f9adbb-d3e7-4245-88c2-6781912efdcd",
   "metadata": {},
   "outputs": [
    {
     "data": {
      "text/plain": [
       "'panchanaanpanchanaanpanchanaan'"
      ]
     },
     "execution_count": 5,
     "metadata": {},
     "output_type": "execute_result"
    }
   ],
   "source": [
    "p*3"
   ]
  },
  {
   "cell_type": "code",
   "execution_count": 6,
   "id": "47aedb59-d042-4171-ad47-0c590b5fac80",
   "metadata": {},
   "outputs": [
    {
     "ename": "TypeError",
     "evalue": "unsupported operand type(s) for /: 'str' and 'int'",
     "output_type": "error",
     "traceback": [
      "\u001b[0;31m---------------------------------------------------------------------------\u001b[0m",
      "\u001b[0;31mTypeError\u001b[0m                                 Traceback (most recent call last)",
      "Cell \u001b[0;32mIn[6], line 1\u001b[0m\n\u001b[0;32m----> 1\u001b[0m \u001b[43mp\u001b[49m\u001b[38;5;241;43m/\u001b[39;49m\u001b[38;5;241;43m100\u001b[39;49m\n",
      "\u001b[0;31mTypeError\u001b[0m: unsupported operand type(s) for /: 'str' and 'int'"
     ]
    }
   ],
   "source": [
    "p/100"
   ]
  },
  {
   "cell_type": "code",
   "execution_count": 15,
   "id": "2fc29e72-e421-4b4a-b0bb-75f2d0287064",
   "metadata": {},
   "outputs": [],
   "source": [
    "animelist=['DBZ','OP','NARUTO','FAIRYTAIL','BLEACH','CODEGUESS','Avatar','blacklagoon','DEMON SLAYER','TOKYO GHOUL','KING',]"
   ]
  },
  {
   "cell_type": "code",
   "execution_count": 14,
   "id": "e3f6efb1-5b0d-4210-82b8-628ef65d650e",
   "metadata": {},
   "outputs": [
    {
     "data": {
      "text/plain": [
       "'CODEGUESS'"
      ]
     },
     "execution_count": 14,
     "metadata": {},
     "output_type": "execute_result"
    }
   ],
   "source": [
    "animelist[5]"
   ]
  },
  {
   "cell_type": "code",
   "execution_count": 11,
   "id": "5ffe87a8-6d28-49a1-9a1c-46efbc9472f5",
   "metadata": {},
   "outputs": [
    {
     "data": {
      "text/plain": [
       "['CODEGUESS', 'DBZ']"
      ]
     },
     "execution_count": 11,
     "metadata": {},
     "output_type": "execute_result"
    }
   ],
   "source": [
    "animelist[::-5]"
   ]
  },
  {
   "cell_type": "code",
   "execution_count": 12,
   "id": "4d193552-d9af-46ee-bf68-67584b01114f",
   "metadata": {},
   "outputs": [
    {
     "data": {
      "text/plain": [
       "['CODEGUESS', 'BLEACH', 'FAIRYTAIL', 'NARUTO', 'OP', 'DBZ']"
      ]
     },
     "execution_count": 12,
     "metadata": {},
     "output_type": "execute_result"
    }
   ],
   "source": [
    "animelist[::-1]"
   ]
  },
  {
   "cell_type": "code",
   "execution_count": 29,
   "id": "27164cbf-e07b-4d25-a0a6-56581c0c8fb1",
   "metadata": {},
   "outputs": [],
   "source": [
    "animelist.append('DEATHNOTE')"
   ]
  },
  {
   "cell_type": "code",
   "execution_count": 26,
   "id": "f4eb77f3-1f56-40e5-99e7-1bc3cd21920b",
   "metadata": {},
   "outputs": [
    {
     "data": {
      "text/plain": [
       "['DBZ',\n",
       " 'OP',\n",
       " 'NARUTO',\n",
       " 'FAIRYTAIL',\n",
       " 'BLEACH',\n",
       " 'CODEGUESS',\n",
       " 'Avatar',\n",
       " 'blacklagoon',\n",
       " 'DEMON SLAYER',\n",
       " 'TOKYO GHOUL',\n",
       " 'KING',\n",
       " 'DEATHNOTE',\n",
       " 'DEATHNOTE']"
      ]
     },
     "execution_count": 26,
     "metadata": {},
     "output_type": "execute_result"
    }
   ],
   "source": [
    "animelist"
   ]
  },
  {
   "cell_type": "code",
   "execution_count": 27,
   "id": "a33d054e-832d-4f1c-b8fe-40996d8abb94",
   "metadata": {},
   "outputs": [
    {
     "data": {
      "text/plain": [
       "'E'"
      ]
     },
     "execution_count": 27,
     "metadata": {},
     "output_type": "execute_result"
    }
   ],
   "source": [
    "animelist[-1][1]"
   ]
  },
  {
   "cell_type": "code",
   "execution_count": 30,
   "id": "0032e0b4-80eb-4acc-b2e1-15af511a95c0",
   "metadata": {},
   "outputs": [],
   "source": [
    "Series=['Lock and key','Lockwood and co', 'Three body problem']"
   ]
  },
  {
   "cell_type": "code",
   "execution_count": 31,
   "id": "c0ad0580-5665-4d96-aeaa-2f61866a619f",
   "metadata": {},
   "outputs": [
    {
     "data": {
      "text/plain": [
       "['Lock and key', 'Lockwood and co', 'Three body problem']"
      ]
     },
     "execution_count": 31,
     "metadata": {},
     "output_type": "execute_result"
    }
   ],
   "source": [
    "Series"
   ]
  },
  {
   "cell_type": "code",
   "execution_count": 32,
   "id": "fd0a0875-5298-4965-958b-ae765d13f0aa",
   "metadata": {},
   "outputs": [],
   "source": [
    "animelist.append(Series)"
   ]
  },
  {
   "cell_type": "code",
   "execution_count": 33,
   "id": "8c5d1e29-1f59-426e-9e6d-e7f673ea7a38",
   "metadata": {},
   "outputs": [
    {
     "data": {
      "text/plain": [
       "['DBZ',\n",
       " 'OP',\n",
       " 'NARUTO',\n",
       " 'FAIRYTAIL',\n",
       " 'BLEACH',\n",
       " 'CODEGUESS',\n",
       " 'Avatar',\n",
       " 'blacklagoon',\n",
       " 'DEMON SLAYER',\n",
       " 'TOKYO GHOUL',\n",
       " 'KING',\n",
       " 'DEATHNOTE',\n",
       " 'DEATHNOTE',\n",
       " 'DEATHNOTE',\n",
       " ['Lock and key', 'Lockwood and co', 'Three body problem']]"
      ]
     },
     "execution_count": 33,
     "metadata": {},
     "output_type": "execute_result"
    }
   ],
   "source": [
    "animelist"
   ]
  },
  {
   "cell_type": "code",
   "execution_count": 34,
   "id": "26b1267b-665a-4b19-a26a-6636d355706c",
   "metadata": {},
   "outputs": [],
   "source": [
    "Series.insert(2,'Strangerthings')"
   ]
  },
  {
   "cell_type": "code",
   "execution_count": 35,
   "id": "bc49b460-6e21-498b-afce-6ba4a69a8829",
   "metadata": {},
   "outputs": [
    {
     "data": {
      "text/plain": [
       "['Lock and key', 'Lockwood and co', 'Strangerthings', 'Three body problem']"
      ]
     },
     "execution_count": 35,
     "metadata": {},
     "output_type": "execute_result"
    }
   ],
   "source": [
    "Series"
   ]
  },
  {
   "cell_type": "code",
   "execution_count": 37,
   "id": "cc5bdaa5-0598-4a03-88ec-6162c01a23be",
   "metadata": {},
   "outputs": [
    {
     "data": {
      "text/plain": [
       "['Lock and key', 'Lockwood and co', 'Strangerthings', 'Three body problem']"
      ]
     },
     "execution_count": 37,
     "metadata": {},
     "output_type": "execute_result"
    }
   ],
   "source": [
    "animelist.pop()"
   ]
  },
  {
   "cell_type": "code",
   "execution_count": 39,
   "id": "b3e24ef9-28e2-4d0b-b830-393e1d15f8d4",
   "metadata": {},
   "outputs": [
    {
     "data": {
      "text/plain": [
       "'Three body problem'"
      ]
     },
     "execution_count": 39,
     "metadata": {},
     "output_type": "execute_result"
    }
   ],
   "source": [
    "Series.pop(3)"
   ]
  },
  {
   "cell_type": "code",
   "execution_count": 41,
   "id": "9c6ed33f-2add-4d9b-afe1-a435358bb64f",
   "metadata": {},
   "outputs": [
    {
     "data": {
      "text/plain": [
       "['Lock and key', 'Lockwood and co', 'Strangerthings']"
      ]
     },
     "execution_count": 41,
     "metadata": {},
     "output_type": "execute_result"
    }
   ],
   "source": [
    "Series"
   ]
  },
  {
   "cell_type": "code",
   "execution_count": 42,
   "id": "df442e38-b308-4d7d-af96-0b4e83cd5253",
   "metadata": {},
   "outputs": [
    {
     "data": {
      "text/plain": [
       "'DEATHNOTE'"
      ]
     },
     "execution_count": 42,
     "metadata": {},
     "output_type": "execute_result"
    }
   ],
   "source": [
    "animelist.pop()"
   ]
  },
  {
   "cell_type": "code",
   "execution_count": 43,
   "id": "8a784931-2abe-4b4d-b6ac-4f134707f4ec",
   "metadata": {},
   "outputs": [
    {
     "data": {
      "text/plain": [
       "['DBZ',\n",
       " 'OP',\n",
       " 'NARUTO',\n",
       " 'FAIRYTAIL',\n",
       " 'BLEACH',\n",
       " 'CODEGUESS',\n",
       " 'Avatar',\n",
       " 'blacklagoon',\n",
       " 'DEMON SLAYER',\n",
       " 'TOKYO GHOUL',\n",
       " 'KING',\n",
       " 'DEATHNOTE',\n",
       " 'DEATHNOTE']"
      ]
     },
     "execution_count": 43,
     "metadata": {},
     "output_type": "execute_result"
    }
   ],
   "source": [
    "animelist"
   ]
  },
  {
   "cell_type": "code",
   "execution_count": 44,
   "id": "bc9ba000-2e46-4a1b-9608-9b189d25366d",
   "metadata": {},
   "outputs": [],
   "source": [
    "animelist.remove('KING')"
   ]
  },
  {
   "cell_type": "code",
   "execution_count": 47,
   "id": "5791d7d8-55cd-471c-b09f-ae0a3c55e5d4",
   "metadata": {},
   "outputs": [
    {
     "data": {
      "text/plain": [
       "['DBZ',\n",
       " 'OP',\n",
       " 'NARUTO',\n",
       " 'FAIRYTAIL',\n",
       " 'BLEACH',\n",
       " 'CODEGUESS',\n",
       " 'Avatar',\n",
       " 'blacklagoon',\n",
       " 'DEMON SLAYER',\n",
       " 'TOKYO GHOUL',\n",
       " 'DEATHNOTE',\n",
       " 'DEATHNOTE']"
      ]
     },
     "execution_count": 47,
     "metadata": {},
     "output_type": "execute_result"
    }
   ],
   "source": [
    "animelist"
   ]
  },
  {
   "cell_type": "code",
   "execution_count": 48,
   "id": "b03c9593-ef85-47c1-aa27-9d2a4806d1f6",
   "metadata": {},
   "outputs": [],
   "source": [
    "animelist.sort()"
   ]
  },
  {
   "cell_type": "code",
   "execution_count": 49,
   "id": "86daf7cb-f71a-4c6e-a3b5-d49797cca5da",
   "metadata": {},
   "outputs": [
    {
     "data": {
      "text/plain": [
       "['Avatar',\n",
       " 'BLEACH',\n",
       " 'CODEGUESS',\n",
       " 'DBZ',\n",
       " 'DEATHNOTE',\n",
       " 'DEATHNOTE',\n",
       " 'DEMON SLAYER',\n",
       " 'FAIRYTAIL',\n",
       " 'NARUTO',\n",
       " 'OP',\n",
       " 'TOKYO GHOUL',\n",
       " 'blacklagoon']"
      ]
     },
     "execution_count": 49,
     "metadata": {},
     "output_type": "execute_result"
    }
   ],
   "source": [
    "animelist"
   ]
  },
  {
   "cell_type": "code",
   "execution_count": 51,
   "id": "0f3ef346-1395-46bb-9942-b4987822d8e2",
   "metadata": {},
   "outputs": [],
   "source": [
    "animelist.sort(reverse=True)"
   ]
  },
  {
   "cell_type": "code",
   "execution_count": 52,
   "id": "a9c038f5-da97-4e48-b9b7-6b28ae4c9951",
   "metadata": {},
   "outputs": [
    {
     "data": {
      "text/plain": [
       "['blacklagoon',\n",
       " 'TOKYO GHOUL',\n",
       " 'OP',\n",
       " 'NARUTO',\n",
       " 'FAIRYTAIL',\n",
       " 'DEMON SLAYER',\n",
       " 'DEATHNOTE',\n",
       " 'DEATHNOTE',\n",
       " 'DBZ',\n",
       " 'CODEGUESS',\n",
       " 'BLEACH',\n",
       " 'Avatar']"
      ]
     },
     "execution_count": 52,
     "metadata": {},
     "output_type": "execute_result"
    }
   ],
   "source": [
    "animelist"
   ]
  },
  {
   "cell_type": "code",
   "execution_count": 53,
   "id": "a9a9e828-bff5-40dd-ae87-f14868bc0ebf",
   "metadata": {},
   "outputs": [
    {
     "data": {
      "text/plain": [
       "3"
      ]
     },
     "execution_count": 53,
     "metadata": {},
     "output_type": "execute_result"
    }
   ],
   "source": [
    "animelist.index('NARUTO')"
   ]
  },
  {
   "cell_type": "code",
   "execution_count": 54,
   "id": "fa5ec4c6-0917-4c6b-aa47-f3a19131b8fb",
   "metadata": {},
   "outputs": [
    {
     "data": {
      "text/plain": [
       "1"
      ]
     },
     "execution_count": 54,
     "metadata": {},
     "output_type": "execute_result"
    }
   ],
   "source": [
    "animelist.count('NARUTO')"
   ]
  },
  {
   "cell_type": "code",
   "execution_count": null,
   "id": "2511ad62-3c79-4076-bc90-466b2e244075",
   "metadata": {},
   "outputs": [],
   "source": [
    "#extend\n",
    "#insert\n",
    "#append\n",
    "#pop\n",
    "#remove\n",
    "#reverse\n",
    "#sort\n",
    "#index\n",
    "#count"
   ]
  }
 ],
 "metadata": {
  "kernelspec": {
   "display_name": "Python 3 (ipykernel)",
   "language": "python",
   "name": "python3"
  },
  "language_info": {
   "codemirror_mode": {
    "name": "ipython",
    "version": 3
   },
   "file_extension": ".py",
   "mimetype": "text/x-python",
   "name": "python",
   "nbconvert_exporter": "python",
   "pygments_lexer": "ipython3",
   "version": "3.10.8"
  }
 },
 "nbformat": 4,
 "nbformat_minor": 5
}

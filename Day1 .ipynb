{
 "cells": [
  {
   "cell_type": "code",
   "execution_count": 22,
   "id": "4422a073-807f-4a10-93d8-e95814c1bf48",
   "metadata": {},
   "outputs": [],
   "source": [
    "b='prathamesh chutiya'"
   ]
  },
  {
   "cell_type": "code",
   "execution_count": 23,
   "id": "b1b6f403-9d73-4690-b13a-cc5f8e73cc79",
   "metadata": {},
   "outputs": [
    {
     "data": {
      "text/plain": [
       "str"
      ]
     },
     "execution_count": 23,
     "metadata": {},
     "output_type": "execute_result"
    }
   ],
   "source": [
    "type(b)"
   ]
  },
  {
   "cell_type": "code",
   "execution_count": 21,
   "id": "0175288d-0308-4871-ab45-b8060c1f95dc",
   "metadata": {},
   "outputs": [
    {
     "data": {
      "text/plain": [
       "'prathamesh chutiya'"
      ]
     },
     "execution_count": 21,
     "metadata": {},
     "output_type": "execute_result"
    }
   ],
   "source": [
    "b"
   ]
  },
  {
   "cell_type": "code",
   "execution_count": 24,
   "id": "3d547564-03d1-467f-9623-bcc6c7a0d908",
   "metadata": {},
   "outputs": [],
   "source": [
    "p=111.22"
   ]
  },
  {
   "cell_type": "code",
   "execution_count": 25,
   "id": "26df8dca-a4ba-4a99-8aed-ff037d7045cb",
   "metadata": {},
   "outputs": [
    {
     "data": {
      "text/plain": [
       "111.22"
      ]
     },
     "execution_count": 25,
     "metadata": {},
     "output_type": "execute_result"
    }
   ],
   "source": [
    "p"
   ]
  },
  {
   "cell_type": "code",
   "execution_count": 26,
   "id": "10aea11c-c108-4f34-b3f4-2b56bf4d3514",
   "metadata": {},
   "outputs": [
    {
     "data": {
      "text/plain": [
       "float"
      ]
     },
     "execution_count": 26,
     "metadata": {},
     "output_type": "execute_result"
    }
   ],
   "source": [
    "type(p)"
   ]
  },
  {
   "cell_type": "code",
   "execution_count": 30,
   "id": "af396312-4187-4056-a481-3da5fbec714e",
   "metadata": {},
   "outputs": [],
   "source": [
    "t=True"
   ]
  },
  {
   "cell_type": "code",
   "execution_count": 31,
   "id": "488207a7-9757-42de-ba3d-780fb7a1b4c8",
   "metadata": {},
   "outputs": [
    {
     "data": {
      "text/plain": [
       "bool"
      ]
     },
     "execution_count": 31,
     "metadata": {},
     "output_type": "execute_result"
    }
   ],
   "source": [
    "type(t)"
   ]
  },
  {
   "cell_type": "code",
   "execution_count": 34,
   "id": "2dfdfe7a-47ea-4b92-b08d-73c984542d54",
   "metadata": {},
   "outputs": [
    {
     "data": {
      "text/plain": [
       "0"
      ]
     },
     "execution_count": 34,
     "metadata": {},
     "output_type": "execute_result"
    }
   ],
   "source": [
    "True*False"
   ]
  },
  {
   "cell_type": "code",
   "execution_count": 33,
   "id": "e25afcd6-a962-4668-af76-b65ea89dc8e9",
   "metadata": {},
   "outputs": [
    {
     "data": {
      "text/plain": [
       "-1"
      ]
     },
     "execution_count": 33,
     "metadata": {},
     "output_type": "execute_result"
    }
   ],
   "source": [
    "False-True"
   ]
  },
  {
   "cell_type": "code",
   "execution_count": 37,
   "id": "40374fd4-6a86-48e2-829c-d3f0ed6d0e57",
   "metadata": {},
   "outputs": [],
   "source": [
    "p=5+4j"
   ]
  },
  {
   "cell_type": "code",
   "execution_count": 39,
   "id": "a5e4c79d-b191-4d3f-ba99-4443213dc42c",
   "metadata": {},
   "outputs": [
    {
     "data": {
      "text/plain": [
       "complex"
      ]
     },
     "execution_count": 39,
     "metadata": {},
     "output_type": "execute_result"
    }
   ],
   "source": [
    "type(p)"
   ]
  },
  {
   "cell_type": "code",
   "execution_count": 40,
   "id": "6c0d5bab-24d2-47c0-b34a-f3087ca3b23a",
   "metadata": {},
   "outputs": [
    {
     "data": {
      "text/plain": [
       "4.0"
      ]
     },
     "execution_count": 40,
     "metadata": {},
     "output_type": "execute_result"
    }
   ],
   "source": [
    "p.imag"
   ]
  },
  {
   "cell_type": "code",
   "execution_count": 41,
   "id": "37ad2c1a-1abd-4d33-91f6-8b34a100e0f3",
   "metadata": {},
   "outputs": [
    {
     "data": {
      "text/plain": [
       "5.0"
      ]
     },
     "execution_count": 41,
     "metadata": {},
     "output_type": "execute_result"
    }
   ],
   "source": [
    "p.real"
   ]
  },
  {
   "cell_type": "code",
   "execution_count": 42,
   "id": "a7d65e5e-6111-472c-ab4c-937b157ca47f",
   "metadata": {},
   "outputs": [
    {
     "data": {
      "text/plain": [
       "<function complex.conjugate()>"
      ]
     },
     "execution_count": 42,
     "metadata": {},
     "output_type": "execute_result"
    }
   ],
   "source": [
    "p.conjugate"
   ]
  },
  {
   "cell_type": "code",
   "execution_count": 2,
   "id": "1e77f5c8-6eb2-4b0d-8b31-2008e7b76725",
   "metadata": {},
   "outputs": [],
   "source": [
    "p=[1,2,3,'panchanan','prathamesh','naruto','op']"
   ]
  },
  {
   "cell_type": "code",
   "execution_count": 3,
   "id": "1b153d36-5f0d-4935-bec4-ff4ae1d7b381",
   "metadata": {},
   "outputs": [
    {
     "data": {
      "text/plain": [
       "list"
      ]
     },
     "execution_count": 3,
     "metadata": {},
     "output_type": "execute_result"
    }
   ],
   "source": [
    "type(p)"
   ]
  },
  {
   "cell_type": "code",
   "execution_count": 4,
   "id": "7856856e-6f82-49df-9894-c39023fec688",
   "metadata": {},
   "outputs": [],
   "source": [
    "p[2]='world trigger'"
   ]
  },
  {
   "cell_type": "code",
   "execution_count": 5,
   "id": "2b05e21b-c465-45fb-9dc0-6288a00abae6",
   "metadata": {},
   "outputs": [
    {
     "data": {
      "text/plain": [
       "[1, 2, 'world trigger', 'panchanan', 'prathamesh', 'naruto', 'op']"
      ]
     },
     "execution_count": 5,
     "metadata": {},
     "output_type": "execute_result"
    }
   ],
   "source": [
    "p"
   ]
  },
  {
   "cell_type": "code",
   "execution_count": 9,
   "id": "7f38b483-6728-402a-8ab0-ca2036c6b4f5",
   "metadata": {},
   "outputs": [
    {
     "data": {
      "text/plain": [
       "[2]"
      ]
     },
     "execution_count": 9,
     "metadata": {},
     "output_type": "execute_result"
    }
   ],
   "source": [
    "p"
   ]
  },
  {
   "cell_type": "code",
   "execution_count": 11,
   "id": "66f88c12-e8aa-4e95-af85-75f3b69624aa",
   "metadata": {},
   "outputs": [],
   "source": [
    "p=[1,2,3,'panchanan','prathamesh','naruto','op']"
   ]
  },
  {
   "cell_type": "code",
   "execution_count": 12,
   "id": "868057d7-1097-496f-a92b-9d086649c4f6",
   "metadata": {},
   "outputs": [
    {
     "data": {
      "text/plain": [
       "[1, 2, 3, 'panchanan', 'prathamesh', 'naruto', 'op']"
      ]
     },
     "execution_count": 12,
     "metadata": {},
     "output_type": "execute_result"
    }
   ],
   "source": [
    "p"
   ]
  },
  {
   "cell_type": "code",
   "execution_count": 13,
   "id": "a576bcd8-3280-41ef-8577-d1d363c18201",
   "metadata": {},
   "outputs": [
    {
     "data": {
      "text/plain": [
       "'panchanan'"
      ]
     },
     "execution_count": 13,
     "metadata": {},
     "output_type": "execute_result"
    }
   ],
   "source": [
    "p[3]"
   ]
  },
  {
   "cell_type": "code",
   "execution_count": null,
   "id": "32802faf-3f8b-4f16-821c-db227d094cd5",
   "metadata": {},
   "outputs": [],
   "source": []
  }
 ],
 "metadata": {
  "kernelspec": {
   "display_name": "Python 3 (ipykernel)",
   "language": "python",
   "name": "python3"
  },
  "language_info": {
   "codemirror_mode": {
    "name": "ipython",
    "version": 3
   },
   "file_extension": ".py",
   "mimetype": "text/x-python",
   "name": "python",
   "nbconvert_exporter": "python",
   "pygments_lexer": "ipython3",
   "version": "3.10.8"
  }
 },
 "nbformat": 4,
 "nbformat_minor": 5
}

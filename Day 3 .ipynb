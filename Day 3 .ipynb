{
 "cells": [
  {
   "cell_type": "code",
   "execution_count": 1,
   "id": "b1b668a8-df0f-4e17-b485-3c2e9e4e8121",
   "metadata": {},
   "outputs": [
    {
     "name": "stdout",
     "output_type": "stream",
     "text": [
      "1\n",
      "2\n",
      "3\n"
     ]
    }
   ],
   "source": [
    "n=4\n",
    "i=1\n",
    "while i<n:\n",
    "    print(i)\n",
    "    i=i+1"
   ]
  },
  {
   "cell_type": "code",
   "execution_count": 11,
   "id": "1a5a6a9c-f195-4551-8716-240644c4aa57",
   "metadata": {},
   "outputs": [
    {
     "name": "stdout",
     "output_type": "stream",
     "text": [
      "500\n",
      "1000\n",
      "1500\n",
      "2000\n",
      "2500\n",
      "3000\n",
      "3500\n",
      "4000\n",
      "4500\n",
      "5000\n",
      "5500\n",
      "6000\n",
      "6500\n",
      "7000\n",
      "7500\n",
      "8000\n",
      "8500\n",
      "9000\n",
      "9500\n",
      "oops out of cash\n"
     ]
    }
   ],
   "source": [
    "n=10000\n",
    "i=500\n",
    "while i<n:\n",
    "    print(i)\n",
    "    i=i+500 \n",
    "else:\n",
    "    print('oops out of cash')"
   ]
  },
  {
   "cell_type": "code",
   "execution_count": 1,
   "id": "99967c6d-8d8b-426e-acab-497e60eeb952",
   "metadata": {},
   "outputs": [
    {
     "name": "stdout",
     "output_type": "stream",
     "text": [
      "p\n",
      "a\n",
      "n\n",
      "c\n",
      "h\n",
      "a\n",
      "n\n",
      "a\n",
      "n\n"
     ]
    }
   ],
   "source": [
    "p=('panchanan')\n",
    "for i in p :\n",
    "    print(i)"
   ]
  },
  {
   "cell_type": "code",
   "execution_count": 4,
   "id": "f0a18225-51d7-4376-a9c1-d3f65bb018e9",
   "metadata": {},
   "outputs": [
    {
     "name": "stdout",
     "output_type": "stream",
     "text": [
      "<class 'str'>\n",
      "<class 'str'>\n",
      "<class 'str'>\n",
      "<class 'str'>\n",
      "Which is your favourite\n"
     ]
    }
   ],
   "source": [
    "p=('Deathnote','OP','DBZ','Berserk')\n",
    "for anime in p :\n",
    "    print(type('anime'))\n",
    "else:\n",
    "    print ('Which is your favourite')"
   ]
  },
  {
   "cell_type": "code",
   "execution_count": null,
   "id": "1fc7cbc2-a3f5-479b-8dee-0acbd2ddea3b",
   "metadata": {},
   "outputs": [],
   "source": []
  }
 ],
 "metadata": {
  "kernelspec": {
   "display_name": "Python 3 (ipykernel)",
   "language": "python",
   "name": "python3"
  },
  "language_info": {
   "codemirror_mode": {
    "name": "ipython",
    "version": 3
   },
   "file_extension": ".py",
   "mimetype": "text/x-python",
   "name": "python",
   "nbconvert_exporter": "python",
   "pygments_lexer": "ipython3",
   "version": "3.10.8"
  }
 },
 "nbformat": 4,
 "nbformat_minor": 5
}
